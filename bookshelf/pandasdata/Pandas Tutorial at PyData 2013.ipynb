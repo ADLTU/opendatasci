{
 "metadata": {
  "name": "Pandas Tutorial at PyData 2013"
 },
 "nbformat": 3,
 "nbformat_minor": 0,
 "worksheets": [
  {
   "cells": [
    {
     "cell_type": "code",
     "collapsed": false,
     "input": [
      "import pandas as pd\n"
     ],
     "language": "python",
     "metadata": {},
     "outputs": [
      {
       "output_type": "stream",
       "stream": "stderr",
       "text": [
        "/Applications/anaconda/lib/python2.7/site-packages/pytz/__init__.py:35: UserWarning: Module argparse was already imported from /Applications/anaconda/lib/python2.7/argparse.pyc, but /Applications/anaconda/lib/python2.7/site-packages is being added to sys.path\n",
        "  from pkg_resources import resource_stream\n"
       ]
      }
     ],
     "prompt_number": 1
    },
    {
     "cell_type": "code",
     "collapsed": false,
     "input": [
      "users = pd.read_csv('PandasUsers.csv')"
     ],
     "language": "python",
     "metadata": {},
     "outputs": [],
     "prompt_number": 2
    },
    {
     "cell_type": "code",
     "collapsed": false,
     "input": [
      "posts = pd.read_csv('PandasPosts.csv')\n",
      "answerers = pd.read_csv('PandasAnswerers.csv')\n",
      "answers = pd.read_csv('PandasAnswers.csv')"
     ],
     "language": "python",
     "metadata": {},
     "outputs": [],
     "prompt_number": 3
    },
    {
     "cell_type": "code",
     "collapsed": false,
     "input": [
      "users.index"
     ],
     "language": "python",
     "metadata": {},
     "outputs": [
      {
       "output_type": "pyout",
       "prompt_number": 4,
       "text": [
        "Int64Index([  0,   1,   2,   3,   4,   5,   6,   7,   8,   9,  10,  11,  12,\n",
        "        13,  14,  15,  16,  17,  18,  19,  20,  21,  22,  23,  24,  25,\n",
        "        26,  27,  28,  29,  30,  31,  32,  33,  34,  35,  36,  37,  38,\n",
        "        39,  40,  41,  42,  43,  44,  45,  46,  47,  48,  49,  50,  51,\n",
        "        52,  53,  54,  55,  56,  57,  58,  59,  60,  61,  62,  63,  64,\n",
        "        65,  66,  67,  68,  69,  70,  71,  72,  73,  74,  75,  76,  77,\n",
        "        78,  79,  80,  81,  82,  83,  84,  85,  86,  87,  88,  89,  90,\n",
        "        91,  92,  93,  94,  95,  96,  97,  98,  99, 100, 101, 102, 103,\n",
        "       104, 105, 106, 107, 108, 109, 110, 111, 112, 113, 114, 115, 116,\n",
        "       117, 118, 119, 120, 121, 122, 123, 124, 125, 126, 127, 128, 129,\n",
        "       130, 131, 132, 133, 134, 135, 136, 137, 138, 139, 140, 141, 142,\n",
        "       143, 144, 145, 146, 147, 148, 149, 150, 151, 152, 153, 154, 155,\n",
        "       156, 157, 158, 159, 160, 161, 162, 163, 164, 165, 166, 167, 168,\n",
        "       169, 170, 171, 172, 173, 174, 175, 176, 177, 178, 179, 180, 181,\n",
        "       182, 183, 184, 185, 186, 187, 188, 189, 190, 191, 192, 193, 194,\n",
        "       195, 196, 197, 198, 199, 200, 201, 202, 203, 204, 205, 206, 207,\n",
        "       208, 209, 210, 211, 212, 213, 214, 215, 216, 217, 218, 219, 220,\n",
        "       221, 222, 223, 224, 225, 226, 227, 228, 229, 230, 231, 232, 233,\n",
        "       234, 235, 236, 237, 238, 239, 240, 241, 242, 243, 244, 245, 246,\n",
        "       247, 248, 249, 250, 251, 252, 253, 254, 255, 256, 257, 258, 259,\n",
        "       260, 261, 262, 263, 264, 265, 266, 267, 268, 269, 270, 271, 272,\n",
        "       273, 274, 275, 276, 277, 278, 279, 280, 281, 282, 283, 284, 285,\n",
        "       286, 287, 288, 289, 290, 291, 292, 293, 294, 295, 296, 297, 298,\n",
        "       299, 300, 301, 302, 303, 304, 305, 306, 307, 308, 309, 310, 311,\n",
        "       312, 313, 314, 315, 316, 317, 318, 319, 320, 321, 322, 323, 324,\n",
        "       325, 326, 327, 328, 329, 330, 331, 332, 333, 334, 335, 336, 337,\n",
        "       338, 339, 340, 341, 342, 343, 344, 345, 346, 347, 348, 349, 350,\n",
        "       351, 352, 353, 354, 355, 356, 357, 358, 359, 360, 361, 362, 363,\n",
        "       364, 365, 366, 367, 368, 369, 370, 371, 372, 373, 374, 375, 376,\n",
        "       377, 378, 379, 380, 381, 382, 383, 384, 385, 386, 387, 388, 389,\n",
        "       390, 391, 392, 393, 394, 395, 396, 397, 398, 399, 400, 401, 402,\n",
        "       403, 404, 405, 406, 407, 408, 409, 410, 411, 412, 413, 414, 415,\n",
        "       416, 417, 418, 419, 420, 421, 422, 423, 424, 425, 426, 427, 428,\n",
        "       429, 430, 431, 432, 433, 434, 435, 436, 437, 438, 439, 440, 441,\n",
        "       442, 443, 444, 445, 446, 447, 448, 449, 450, 451, 452, 453, 454,\n",
        "       455, 456, 457, 458, 459, 460, 461, 462, 463, 464, 465, 466, 467,\n",
        "       468, 469, 470, 471, 472, 473, 474, 475, 476, 477, 478, 479, 480,\n",
        "       481, 482, 483, 484, 485, 486, 487, 488, 489])"
       ]
      }
     ],
     "prompt_number": 4
    },
    {
     "cell_type": "code",
     "collapsed": false,
     "input": [
      "answerers.columns"
     ],
     "language": "python",
     "metadata": {},
     "outputs": [
      {
       "output_type": "pyout",
       "prompt_number": 7,
       "text": [
        "Index([Id, Reputation, CreationDate, DisplayName, LastAccessDate,\n",
        "       WebsiteUrl, Location, AboutMe, Views, UpVotes, DownVotes, EmailHash,\n",
        "       Age], dtype=object)"
       ]
      }
     ],
     "prompt_number": 7
    },
    {
     "cell_type": "code",
     "collapsed": false,
     "input": [
      "#stack two tables on top of each other\n",
      "result = pd.concat([users,answerers], ignore_index=True)"
     ],
     "language": "python",
     "metadata": {},
     "outputs": [],
     "prompt_number": 8
    },
    {
     "cell_type": "code",
     "collapsed": false,
     "input": [
      "result\n"
     ],
     "language": "python",
     "metadata": {},
     "outputs": [
      {
       "output_type": "pyout",
       "prompt_number": 9,
       "text": [
        "<class 'pandas.core.frame.DataFrame'>\n",
        "Int64Index: 809 entries, 0 to 808\n",
        "Data columns:\n",
        "Id                809  non-null values\n",
        "Reputation        809  non-null values\n",
        "CreationDate      809  non-null values\n",
        "DisplayName       809  non-null values\n",
        "LastAccessDate    809  non-null values\n",
        "WebsiteUrl        195  non-null values\n",
        "Location          298  non-null values\n",
        "AboutMe           240  non-null values\n",
        "Views             809  non-null values\n",
        "UpVotes           809  non-null values\n",
        "DownVotes         809  non-null values\n",
        "EmailHash         809  non-null values\n",
        "Age               200  non-null values\n",
        "dtypes: float64(1), int64(5), object(7)"
       ]
      }
     ],
     "prompt_number": 9
    },
    {
     "cell_type": "code",
     "collapsed": false,
     "input": [
      "result.columns\n"
     ],
     "language": "python",
     "metadata": {},
     "outputs": [
      {
       "output_type": "pyout",
       "prompt_number": 10,
       "text": [
        "Index([Id, Reputation, CreationDate, DisplayName, LastAccessDate,\n",
        "       WebsiteUrl, Location, AboutMe, Views, UpVotes, DownVotes, EmailHash,\n",
        "       Age], dtype=object)"
       ]
      }
     ],
     "prompt_number": 10
    },
    {
     "cell_type": "code",
     "collapsed": false,
     "input": [
      "result['DisplayName'].index"
     ],
     "language": "python",
     "metadata": {},
     "outputs": [
      {
       "output_type": "pyout",
       "prompt_number": 11,
       "text": [
        "Int64Index([  0,   1,   2,   3,   4,   5,   6,   7,   8,   9,  10,  11,  12,\n",
        "        13,  14,  15,  16,  17,  18,  19,  20,  21,  22,  23,  24,  25,\n",
        "        26,  27,  28,  29,  30,  31,  32,  33,  34,  35,  36,  37,  38,\n",
        "        39,  40,  41,  42,  43,  44,  45,  46,  47,  48,  49,  50,  51,\n",
        "        52,  53,  54,  55,  56,  57,  58,  59,  60,  61,  62,  63,  64,\n",
        "        65,  66,  67,  68,  69,  70,  71,  72,  73,  74,  75,  76,  77,\n",
        "        78,  79,  80,  81,  82,  83,  84,  85,  86,  87,  88,  89,  90,\n",
        "        91,  92,  93,  94,  95,  96,  97,  98,  99, 100, 101, 102, 103,\n",
        "       104, 105, 106, 107, 108, 109, 110, 111, 112, 113, 114, 115, 116,\n",
        "       117, 118, 119, 120, 121, 122, 123, 124, 125, 126, 127, 128, 129,\n",
        "       130, 131, 132, 133, 134, 135, 136, 137, 138, 139, 140, 141, 142,\n",
        "       143, 144, 145, 146, 147, 148, 149, 150, 151, 152, 153, 154, 155,\n",
        "       156, 157, 158, 159, 160, 161, 162, 163, 164, 165, 166, 167, 168,\n",
        "       169, 170, 171, 172, 173, 174, 175, 176, 177, 178, 179, 180, 181,\n",
        "       182, 183, 184, 185, 186, 187, 188, 189, 190, 191, 192, 193, 194,\n",
        "       195, 196, 197, 198, 199, 200, 201, 202, 203, 204, 205, 206, 207,\n",
        "       208, 209, 210, 211, 212, 213, 214, 215, 216, 217, 218, 219, 220,\n",
        "       221, 222, 223, 224, 225, 226, 227, 228, 229, 230, 231, 232, 233,\n",
        "       234, 235, 236, 237, 238, 239, 240, 241, 242, 243, 244, 245, 246,\n",
        "       247, 248, 249, 250, 251, 252, 253, 254, 255, 256, 257, 258, 259,\n",
        "       260, 261, 262, 263, 264, 265, 266, 267, 268, 269, 270, 271, 272,\n",
        "       273, 274, 275, 276, 277, 278, 279, 280, 281, 282, 283, 284, 285,\n",
        "       286, 287, 288, 289, 290, 291, 292, 293, 294, 295, 296, 297, 298,\n",
        "       299, 300, 301, 302, 303, 304, 305, 306, 307, 308, 309, 310, 311,\n",
        "       312, 313, 314, 315, 316, 317, 318, 319, 320, 321, 322, 323, 324,\n",
        "       325, 326, 327, 328, 329, 330, 331, 332, 333, 334, 335, 336, 337,\n",
        "       338, 339, 340, 341, 342, 343, 344, 345, 346, 347, 348, 349, 350,\n",
        "       351, 352, 353, 354, 355, 356, 357, 358, 359, 360, 361, 362, 363,\n",
        "       364, 365, 366, 367, 368, 369, 370, 371, 372, 373, 374, 375, 376,\n",
        "       377, 378, 379, 380, 381, 382, 383, 384, 385, 386, 387, 388, 389,\n",
        "       390, 391, 392, 393, 394, 395, 396, 397, 398, 399, 400, 401, 402,\n",
        "       403, 404, 405, 406, 407, 408, 409, 410, 411, 412, 413, 414, 415,\n",
        "       416, 417, 418, 419, 420, 421, 422, 423, 424, 425, 426, 427, 428,\n",
        "       429, 430, 431, 432, 433, 434, 435, 436, 437, 438, 439, 440, 441,\n",
        "       442, 443, 444, 445, 446, 447, 448, 449, 450, 451, 452, 453, 454,\n",
        "       455, 456, 457, 458, 459, 460, 461, 462, 463, 464, 465, 466, 467,\n",
        "       468, 469, 470, 471, 472, 473, 474, 475, 476, 477, 478, 479, 480,\n",
        "       481, 482, 483, 484, 485, 486, 487, 488, 489, 490, 491, 492, 493,\n",
        "       494, 495, 496, 497, 498, 499, 500, 501, 502, 503, 504, 505, 506,\n",
        "       507, 508, 509, 510, 511, 512, 513, 514, 515, 516, 517, 518, 519,\n",
        "       520, 521, 522, 523, 524, 525, 526, 527, 528, 529, 530, 531, 532,\n",
        "       533, 534, 535, 536, 537, 538, 539, 540, 541, 542, 543, 544, 545,\n",
        "       546, 547, 548, 549, 550, 551, 552, 553, 554, 555, 556, 557, 558,\n",
        "       559, 560, 561, 562, 563, 564, 565, 566, 567, 568, 569, 570, 571,\n",
        "       572, 573, 574, 575, 576, 577, 578, 579, 580, 581, 582, 583, 584,\n",
        "       585, 586, 587, 588, 589, 590, 591, 592, 593, 594, 595, 596, 597,\n",
        "       598, 599, 600, 601, 602, 603, 604, 605, 606, 607, 608, 609, 610,\n",
        "       611, 612, 613, 614, 615, 616, 617, 618, 619, 620, 621, 622, 623,\n",
        "       624, 625, 626, 627, 628, 629, 630, 631, 632, 633, 634, 635, 636,\n",
        "       637, 638, 639, 640, 641, 642, 643, 644, 645, 646, 647, 648, 649,\n",
        "       650, 651, 652, 653, 654, 655, 656, 657, 658, 659, 660, 661, 662,\n",
        "       663, 664, 665, 666, 667, 668, 669, 670, 671, 672, 673, 674, 675,\n",
        "       676, 677, 678, 679, 680, 681, 682, 683, 684, 685, 686, 687, 688,\n",
        "       689, 690, 691, 692, 693, 694, 695, 696, 697, 698, 699, 700, 701,\n",
        "       702, 703, 704, 705, 706, 707, 708, 709, 710, 711, 712, 713, 714,\n",
        "       715, 716, 717, 718, 719, 720, 721, 722, 723, 724, 725, 726, 727,\n",
        "       728, 729, 730, 731, 732, 733, 734, 735, 736, 737, 738, 739, 740,\n",
        "       741, 742, 743, 744, 745, 746, 747, 748, 749, 750, 751, 752, 753,\n",
        "       754, 755, 756, 757, 758, 759, 760, 761, 762, 763, 764, 765, 766,\n",
        "       767, 768, 769, 770, 771, 772, 773, 774, 775, 776, 777, 778, 779,\n",
        "       780, 781, 782, 783, 784, 785, 786, 787, 788, 789, 790, 791, 792,\n",
        "       793, 794, 795, 796, 797, 798, 799, 800, 801, 802, 803, 804, 805,\n",
        "       806, 807, 808])"
       ]
      }
     ],
     "prompt_number": 11
    },
    {
     "cell_type": "code",
     "collapsed": false,
     "input": [
      "result[result.Age.isnull()].count()"
     ],
     "language": "python",
     "metadata": {},
     "outputs": [
      {
       "output_type": "pyout",
       "prompt_number": 14,
       "text": [
        "Id                609\n",
        "Reputation        609\n",
        "CreationDate      609\n",
        "DisplayName       609\n",
        "LastAccessDate    609\n",
        "WebsiteUrl         73\n",
        "Location          124\n",
        "AboutMe           101\n",
        "Views             609\n",
        "UpVotes           609\n",
        "DownVotes         609\n",
        "EmailHash         609\n",
        "Age                 0"
       ]
      }
     ],
     "prompt_number": 14
    },
    {
     "cell_type": "code",
     "collapsed": false,
     "input": [
      "result.Age.mean()"
     ],
     "language": "python",
     "metadata": {},
     "outputs": [
      {
       "output_type": "pyout",
       "prompt_number": 13,
       "text": [
        "32.314999999999998"
       ]
      }
     ],
     "prompt_number": 13
    },
    {
     "cell_type": "code",
     "collapsed": false,
     "input": [
      "all_users=result"
     ],
     "language": "python",
     "metadata": {},
     "outputs": [],
     "prompt_number": 15
    },
    {
     "cell_type": "code",
     "collapsed": false,
     "input": [
      "all_users[all_users.Age.notnull()]"
     ],
     "language": "python",
     "metadata": {},
     "outputs": [
      {
       "output_type": "pyout",
       "prompt_number": 16,
       "text": [
        "<class 'pandas.core.frame.DataFrame'>\n",
        "Int64Index: 200 entries, 1 to 803\n",
        "Data columns:\n",
        "Id                200  non-null values\n",
        "Reputation        200  non-null values\n",
        "CreationDate      200  non-null values\n",
        "DisplayName       200  non-null values\n",
        "LastAccessDate    200  non-null values\n",
        "WebsiteUrl        122  non-null values\n",
        "Location          174  non-null values\n",
        "AboutMe           139  non-null values\n",
        "Views             200  non-null values\n",
        "UpVotes           200  non-null values\n",
        "DownVotes         200  non-null values\n",
        "EmailHash         200  non-null values\n",
        "Age               200  non-null values\n",
        "dtypes: float64(1), int64(5), object(7)"
       ]
      }
     ],
     "prompt_number": 16
    },
    {
     "cell_type": "code",
     "collapsed": false,
     "input": [
      "all_users.ix[5]"
     ],
     "language": "python",
     "metadata": {},
     "outputs": [
      {
       "output_type": "pyout",
       "prompt_number": 17,
       "text": [
        "Id                                                           995182\n",
        "Reputation                                                       50\n",
        "CreationDate                                    2011-10-14 10:04:28\n",
        "DisplayName                                              Evan Davey\n",
        "LastAccessDate                                  2013-02-02 16:52:19\n",
        "WebsiteUrl                         http://www.getoutsideandlive.com\n",
        "Location                                                        NaN\n",
        "AboutMe           <ul>\n",
        "<li><p>available for hire, project by pro...\n",
        "Views                                                             0\n",
        "UpVotes                                                           5\n",
        "DownVotes                                                         0\n",
        "EmailHash                          d1e4de8eba254cfa10428814ad8ff2cf\n",
        "Age                                                             NaN\n",
        "Name: 5"
       ]
      }
     ],
     "prompt_number": 17
    },
    {
     "cell_type": "code",
     "collapsed": false,
     "input": [
      "all_users.ix[5:10]"
     ],
     "language": "python",
     "metadata": {},
     "outputs": [
      {
       "output_type": "pyout",
       "prompt_number": 18,
       "text": [
        "<class 'pandas.core.frame.DataFrame'>\n",
        "Int64Index: 6 entries, 5 to 10\n",
        "Data columns:\n",
        "Id                6  non-null values\n",
        "Reputation        6  non-null values\n",
        "CreationDate      6  non-null values\n",
        "DisplayName       6  non-null values\n",
        "LastAccessDate    6  non-null values\n",
        "WebsiteUrl        2  non-null values\n",
        "Location          2  non-null values\n",
        "AboutMe           3  non-null values\n",
        "Views             6  non-null values\n",
        "UpVotes           6  non-null values\n",
        "DownVotes         6  non-null values\n",
        "EmailHash         6  non-null values\n",
        "Age               2  non-null values\n",
        "dtypes: float64(1), int64(5), object(7)"
       ]
      }
     ],
     "prompt_number": 18
    },
    {
     "cell_type": "code",
     "collapsed": false,
     "input": [
      "all_users.ix[5:10,['DisplayName', 'Age', 'Location']]"
     ],
     "language": "python",
     "metadata": {},
     "outputs": [
      {
       "html": [
        "<div style=\"max-height:1000px;max-width:1500px;overflow:auto;\">\n",
        "<table border=\"1\" class=\"dataframe\">\n",
        "  <thead>\n",
        "    <tr style=\"text-align: right;\">\n",
        "      <th></th>\n",
        "      <th>DisplayName</th>\n",
        "      <th>Age</th>\n",
        "      <th>Location</th>\n",
        "    </tr>\n",
        "  </thead>\n",
        "  <tbody>\n",
        "    <tr>\n",
        "      <td><strong>5 </strong></td>\n",
        "      <td>      Evan Davey</td>\n",
        "      <td>NaN</td>\n",
        "      <td>          NaN</td>\n",
        "    </tr>\n",
        "    <tr>\n",
        "      <td><strong>6 </strong></td>\n",
        "      <td> Nicola Vianello</td>\n",
        "      <td> 38</td>\n",
        "      <td>        Italy</td>\n",
        "    </tr>\n",
        "    <tr>\n",
        "      <td><strong>7 </strong></td>\n",
        "      <td>           Roger</td>\n",
        "      <td>NaN</td>\n",
        "      <td>          NaN</td>\n",
        "    </tr>\n",
        "    <tr>\n",
        "      <td><strong>8 </strong></td>\n",
        "      <td>           Shane</td>\n",
        "      <td> 34</td>\n",
        "      <td> New York, NY</td>\n",
        "    </tr>\n",
        "    <tr>\n",
        "      <td><strong>9 </strong></td>\n",
        "      <td>           roysc</td>\n",
        "      <td>NaN</td>\n",
        "      <td>          NaN</td>\n",
        "    </tr>\n",
        "    <tr>\n",
        "      <td><strong>10</strong></td>\n",
        "      <td>            RJCL</td>\n",
        "      <td>NaN</td>\n",
        "      <td>          NaN</td>\n",
        "    </tr>\n",
        "  </tbody>\n",
        "</table>\n",
        "</div>"
       ],
       "output_type": "pyout",
       "prompt_number": 19,
       "text": [
        "        DisplayName  Age      Location\n",
        "5        Evan Davey  NaN           NaN\n",
        "6   Nicola Vianello   38         Italy\n",
        "7             Roger  NaN           NaN\n",
        "8             Shane   34  New York, NY\n",
        "9             roysc  NaN           NaN\n",
        "10             RJCL  NaN           NaN"
       ]
      }
     ],
     "prompt_number": 19
    },
    {
     "cell_type": "code",
     "collapsed": false,
     "input": [
      "# duplicated returns boolean?\n",
      "all_users.duplicated().sum()"
     ],
     "language": "python",
     "metadata": {},
     "outputs": [
      {
       "output_type": "pyout",
       "prompt_number": 21,
       "text": [
        "115"
       ]
      }
     ],
     "prompt_number": 21
    },
    {
     "cell_type": "code",
     "collapsed": false,
     "input": [
      "# dedup\n",
      "all_users[-all_users.duplicated()]"
     ],
     "language": "python",
     "metadata": {},
     "outputs": [
      {
       "output_type": "pyout",
       "prompt_number": 22,
       "text": [
        "<class 'pandas.core.frame.DataFrame'>\n",
        "Int64Index: 694 entries, 0 to 808\n",
        "Data columns:\n",
        "Id                694  non-null values\n",
        "Reputation        694  non-null values\n",
        "CreationDate      694  non-null values\n",
        "DisplayName       694  non-null values\n",
        "LastAccessDate    694  non-null values\n",
        "WebsiteUrl        167  non-null values\n",
        "Location          255  non-null values\n",
        "AboutMe           202  non-null values\n",
        "Views             694  non-null values\n",
        "UpVotes           694  non-null values\n",
        "DownVotes         694  non-null values\n",
        "EmailHash         694  non-null values\n",
        "Age               170  non-null values\n",
        "dtypes: float64(1), int64(5), object(7)"
       ]
      }
     ],
     "prompt_number": 22
    },
    {
     "cell_type": "code",
     "collapsed": false,
     "input": [
      "# short cut\n",
      "all_users_dedup = all_users.drop_duplicates()"
     ],
     "language": "python",
     "metadata": {},
     "outputs": [
      {
       "output_type": "pyout",
       "prompt_number": 24,
       "text": [
        "<class 'pandas.core.frame.DataFrame'>\n",
        "Int64Index: 694 entries, 0 to 808\n",
        "Data columns:\n",
        "Id                694  non-null values\n",
        "Reputation        694  non-null values\n",
        "CreationDate      694  non-null values\n",
        "DisplayName       694  non-null values\n",
        "LastAccessDate    694  non-null values\n",
        "WebsiteUrl        167  non-null values\n",
        "Location          255  non-null values\n",
        "AboutMe           202  non-null values\n",
        "Views             694  non-null values\n",
        "UpVotes           694  non-null values\n",
        "DownVotes         694  non-null values\n",
        "EmailHash         694  non-null values\n",
        "Age               170  non-null values\n",
        "dtypes: float64(1), int64(5), object(7)"
       ]
      }
     ],
     "prompt_number": 24
    },
    {
     "cell_type": "code",
     "collapsed": false,
     "input": [
      "all_users_dedup = all_users.drop_duplicates()"
     ],
     "language": "python",
     "metadata": {},
     "outputs": [],
     "prompt_number": 25
    },
    {
     "cell_type": "code",
     "collapsed": false,
     "input": [
      "all_users_dedup.DisplayName.value_counts()"
     ],
     "language": "python",
     "metadata": {},
     "outputs": [
      {
       "output_type": "pyout",
       "prompt_number": 26,
       "text": [
        "Tom                     3\n",
        "Jeff                    3\n",
        "Aaron                   2\n",
        "\u00d3scar L\u00f3pez             1\n",
        "zarthur                 1\n",
        "zach                    1\n",
        "yueerhu                 1\n",
        "yayder9990              1\n",
        "worldcitizen            1\n",
        "wiseveri                1\n",
        "waitingkuo              1\n",
        "vladimir montealegre    1\n",
        "vkontori                1\n",
        "vitmol                  1\n",
        "velotron                1\n",
        "...\n",
        "Alexander Stefanov    1\n",
        "Akkabar               1\n",
        "Akavall               1\n",
        "Ahlden                1\n",
        "Adobe                 1\n",
        "Adam Greenhall        1\n",
        "Adam                  1\n",
        "Abraham D Flaxman     1\n",
        "Abiel                 1\n",
        "Abhranil Das          1\n",
        "Abhi                  1\n",
        "Abe                   1\n",
        "Aaron Digulla         1\n",
        "A Alstone             1\n",
        "0xc0de                1\n",
        "Length: 689"
       ]
      }
     ],
     "prompt_number": 26
    },
    {
     "cell_type": "code",
     "collapsed": false,
     "input": [
      "all_users_dedup.DisplayName.value_counts().value_counts()\n"
     ],
     "language": "python",
     "metadata": {},
     "outputs": [
      {
       "output_type": "pyout",
       "prompt_number": 27,
       "text": [
        "1    686\n",
        "3      2\n",
        "2      1"
       ]
      }
     ],
     "prompt_number": 27
    },
    {
     "cell_type": "code",
     "collapsed": false,
     "input": [
      "all_users_dedup.DisplayName.value_counts().value_counts().plot(kind=\"barh\")"
     ],
     "language": "python",
     "metadata": {},
     "outputs": [
      {
       "output_type": "pyout",
       "prompt_number": 28,
       "text": [
        "<matplotlib.axes.AxesSubplot at 0x10a31b390>"
       ]
      }
     ],
     "prompt_number": 28
    },
    {
     "cell_type": "code",
     "collapsed": false,
     "input": [
      "all_users_dedup.DownVotes.max()"
     ],
     "language": "python",
     "metadata": {},
     "outputs": [
      {
       "output_type": "pyout",
       "prompt_number": 29,
       "text": [
        "1419"
       ]
      }
     ],
     "prompt_number": 29
    },
    {
     "cell_type": "code",
     "collapsed": false,
     "input": [
      "all_users_dedup.ix[all_users_dedup.DownVotes.idxmax()]"
     ],
     "language": "python",
     "metadata": {},
     "outputs": [
      {
       "output_type": "pyout",
       "prompt_number": 30,
       "text": [
        "Id                                                           166749\n",
        "Reputation                                                   106809\n",
        "CreationDate                                    2009-09-01 17:19:20\n",
        "DisplayName                                                larsmans\n",
        "LastAccessDate                                  2013-02-02 23:20:32\n",
        "WebsiteUrl                                                      NaN\n",
        "Location                                                Netherlands\n",
        "AboutMe           <p>Command line junkie.</p>\n",
        "\n",
        "<blockquote>\n",
        "  <p...\n",
        "Views                                                           382\n",
        "UpVotes                                                        6911\n",
        "DownVotes                                                      1419\n",
        "EmailHash                          56e17cbc8c5ea5b37d67018db6d030b0\n",
        "Age                                                             NaN\n",
        "Name: 588"
       ]
      }
     ],
     "prompt_number": 30
    },
    {
     "cell_type": "code",
     "collapsed": false,
     "input": [
      "posts"
     ],
     "language": "python",
     "metadata": {},
     "outputs": [
      {
       "output_type": "pyout",
       "prompt_number": 31,
       "text": [
        "<class 'pandas.core.frame.DataFrame'>\n",
        "Int64Index: 952 entries, 0 to 951\n",
        "Data columns:\n",
        "Id                  952  non-null values\n",
        "PostTypeId          952  non-null values\n",
        "AcceptedAnswerId    656  non-null values\n",
        "CreationDate        952  non-null values\n",
        "Score               952  non-null values\n",
        "ViewCount           952  non-null values\n",
        "Body                952  non-null values\n",
        "OwnerUserId         952  non-null values\n",
        "OwnerDisplayName    1  non-null values\n",
        "LastEditorUserId    438  non-null values\n",
        "LastEditDate        438  non-null values\n",
        "LastActivityDate    952  non-null values\n",
        "Title               952  non-null values\n",
        "Tags                952  non-null values\n",
        "AnswerCount         903  non-null values\n",
        "CommentCount        438  non-null values\n",
        "FavoriteCount       303  non-null values\n",
        "ClosedDate          21  non-null values\n",
        "dtypes: float64(5), int64(5), object(8)"
       ]
      }
     ],
     "prompt_number": 31
    },
    {
     "cell_type": "code",
     "collapsed": false,
     "input": [
      "uposts = pd.merge(all_users_dedup,posts, left_on='Id', right_on='OwnerUserId', suffixes=['_user','_post'])"
     ],
     "language": "python",
     "metadata": {},
     "outputs": [],
     "prompt_number": 32
    },
    {
     "cell_type": "code",
     "collapsed": false,
     "input": [
      "uanswers = pd.merge(all_users_dedup,answers, left_on='Id', right_on='OwnerUserId', suffixes=['_user','_post'])"
     ],
     "language": "python",
     "metadata": {},
     "outputs": [],
     "prompt_number": 33
    },
    {
     "cell_type": "code",
     "collapsed": false,
     "input": [
      "uanswers\n"
     ],
     "language": "python",
     "metadata": {},
     "outputs": [
      {
       "output_type": "pyout",
       "prompt_number": 34,
       "text": [
        "<class 'pandas.core.frame.DataFrame'>\n",
        "Int64Index: 1329 entries, 0 to 1328\n",
        "Data columns:\n",
        "Id_user                  1329  non-null values\n",
        "Reputation               1329  non-null values\n",
        "CreationDate_user        1329  non-null values\n",
        "DisplayName              1329  non-null values\n",
        "LastAccessDate           1329  non-null values\n",
        "WebsiteUrl               587  non-null values\n",
        "Location                 769  non-null values\n",
        "AboutMe                  813  non-null values\n",
        "Views                    1329  non-null values\n",
        "UpVotes                  1329  non-null values\n",
        "DownVotes                1329  non-null values\n",
        "EmailHash                1329  non-null values\n",
        "Age                      587  non-null values\n",
        "Id_post                  1329  non-null values\n",
        "PostTypeId               1329  non-null values\n",
        "ParentId                 1329  non-null values\n",
        "CreationDate_post        1329  non-null values\n",
        "Score                    1329  non-null values\n",
        "Body                     1329  non-null values\n",
        "OwnerUserId              1329  non-null values\n",
        "OwnerDisplayName         0  non-null values\n",
        "LastEditorUserId         366  non-null values\n",
        "LastEditorDisplayName    1  non-null values\n",
        "LastEditDate             367  non-null values\n",
        "LastActivityDate         1329  non-null values\n",
        "CommentCount             802  non-null values\n",
        "dtypes: float64(4), int64(9), object(13)"
       ]
      }
     ],
     "prompt_number": 34
    },
    {
     "cell_type": "code",
     "collapsed": false,
     "input": [
      "uanswers.DisplayName.value_counts()"
     ],
     "language": "python",
     "metadata": {},
     "outputs": [
      {
       "output_type": "pyout",
       "prompt_number": 35,
       "text": [
        "Wes McKinney        208\n",
        "Andy Hayden         116\n",
        "Chang She            89\n",
        "Wouter Overmeire     72\n",
        "crewbum              40\n",
        "BrenBarn             37\n",
        "DSM                  35\n",
        "Zelazny7             34\n",
        "eumiro               31\n",
        "unutbu               30\n",
        "root                 20\n",
        "bmu                  18\n",
        "Matti John           18\n",
        "Aman                 18\n",
        "Rutger Kassies       14\n",
        "...\n",
        "Anurag Uniyal         1\n",
        "Anaphory              1\n",
        "Amyunimus             1\n",
        "Alexander Stefanov    1\n",
        "Akavall               1\n",
        "Adobe                 1\n",
        "Adam Greenhall        1\n",
        "Adam                  1\n",
        "Abraham D Flaxman     1\n",
        "Abhranil Das          1\n",
        "Abhi                  1\n",
        "Abe                   1\n",
        "Aaron Digulla         1\n",
        "Aaron                 1\n",
        "0xc0de                1\n",
        "Length: 319"
       ]
      }
     ],
     "prompt_number": 35
    },
    {
     "cell_type": "code",
     "collapsed": false,
     "input": [
      "pd.to_datetime(uposts.CreationDate_post)[0]"
     ],
     "language": "python",
     "metadata": {},
     "outputs": [
      {
       "output_type": "pyout",
       "prompt_number": 36,
       "text": [
        "<Timestamp: 2012-09-11 13:02:00>"
       ]
      }
     ],
     "prompt_number": 36
    },
    {
     "cell_type": "code",
     "collapsed": false,
     "input": [
      "# pd datetime makes time zones less painful compared to datetime.datetime"
     ],
     "language": "python",
     "metadata": {},
     "outputs": [],
     "prompt_number": 37
    },
    {
     "cell_type": "code",
     "collapsed": false,
     "input": [
      "uposts['CreationDate_post'] = pd.to_datetime(uposts.CreationDate_post)\n"
     ],
     "language": "python",
     "metadata": {},
     "outputs": [],
     "prompt_number": 38
    },
    {
     "cell_type": "code",
     "collapsed": false,
     "input": [
      "uposts['CreationDate_post']"
     ],
     "language": "python",
     "metadata": {},
     "outputs": [
      {
       "output_type": "pyout",
       "prompt_number": 39,
       "text": [
        "0    2012-09-11 13:02:00\n",
        "1    2013-01-11 15:46:01\n",
        "2    2012-10-02 21:39:16\n",
        "3    2012-04-18 03:59:55\n",
        "4    2012-12-15 01:29:46\n",
        "5    2012-07-09 09:04:33\n",
        "6    2012-12-06 09:36:35\n",
        "7    2013-01-22 03:37:04\n",
        "8    2012-06-15 19:45:33\n",
        "9    2012-06-25 17:52:09\n",
        "10   2012-06-27 15:41:10\n",
        "11   2012-06-14 16:58:42\n",
        "12   2013-01-10 00:05:42\n",
        "13   2013-01-11 15:58:31\n",
        "14   2013-01-11 22:46:25\n",
        "...\n",
        "937   2013-01-18 18:45:20\n",
        "938   2013-02-01 16:07:53\n",
        "939   2013-01-19 07:33:05\n",
        "940   2013-01-23 06:59:11\n",
        "941   2013-01-28 17:02:27\n",
        "942   2013-01-27 18:09:06\n",
        "943   2013-01-19 17:04:02\n",
        "944   2013-01-20 08:48:56\n",
        "945   2013-01-21 02:19:42\n",
        "946   2013-01-21 13:55:46\n",
        "947   2013-01-28 19:03:20\n",
        "948   2013-02-01 04:38:00\n",
        "949   2013-01-30 21:51:56\n",
        "950   2013-01-31 10:48:43\n",
        "951   2013-02-02 22:28:38\n",
        "Name: CreationDate_post, Length: 952"
       ]
      }
     ],
     "prompt_number": 39
    },
    {
     "cell_type": "code",
     "collapsed": false,
     "input": [
      "views = pd.Series(uposts.ViewCount.values, index=uposts.CreationDate_post)"
     ],
     "language": "python",
     "metadata": {},
     "outputs": [],
     "prompt_number": 40
    },
    {
     "cell_type": "code",
     "collapsed": false,
     "input": [
      "views\n"
     ],
     "language": "python",
     "metadata": {},
     "outputs": [
      {
       "output_type": "pyout",
       "prompt_number": 41,
       "text": [
        "CreationDate_post\n",
        "2012-09-11 13:02:00     112\n",
        "2013-01-11 15:46:01      33\n",
        "2012-10-02 21:39:16      43\n",
        "2012-04-18 03:59:55    1531\n",
        "2012-12-15 01:29:46      78\n",
        "2012-07-09 09:04:33     508\n",
        "2012-12-06 09:36:35      64\n",
        "2013-01-22 03:37:04      63\n",
        "2012-06-15 19:45:33     168\n",
        "2012-06-25 17:52:09     103\n",
        "2012-06-27 15:41:10     255\n",
        "2012-06-14 16:58:42     373\n",
        "2013-01-10 00:05:42      47\n",
        "2013-01-11 15:58:31      38\n",
        "2013-01-11 22:46:25      52\n",
        "...\n",
        "2013-01-18 18:45:20    84\n",
        "2013-02-01 16:07:53    46\n",
        "2013-01-19 07:33:05    53\n",
        "2013-01-23 06:59:11    48\n",
        "2013-01-28 17:02:27    33\n",
        "2013-01-27 18:09:06    35\n",
        "2013-01-19 17:04:02    83\n",
        "2013-01-20 08:48:56    92\n",
        "2013-01-21 02:19:42    65\n",
        "2013-01-21 13:55:46    36\n",
        "2013-01-28 19:03:20    33\n",
        "2013-02-01 04:38:00    62\n",
        "2013-01-30 21:51:56    93\n",
        "2013-01-31 10:48:43    38\n",
        "2013-02-02 22:28:38     5\n",
        "Length: 952"
       ]
      }
     ],
     "prompt_number": 41
    },
    {
     "cell_type": "code",
     "collapsed": false,
     "input": [
      "views.index"
     ],
     "language": "python",
     "metadata": {},
     "outputs": [
      {
       "output_type": "pyout",
       "prompt_number": 42,
       "text": [
        "<class 'pandas.tseries.index.DatetimeIndex'>\n",
        "[2012-09-11 13:02:00, ..., 2013-02-02 22:28:38]\n",
        "Length: 952, Freq: None, Timezone: None"
       ]
      }
     ],
     "prompt_number": 42
    },
    {
     "cell_type": "code",
     "collapsed": false,
     "input": [
      "views.index.year"
     ],
     "language": "python",
     "metadata": {},
     "outputs": [
      {
       "output_type": "pyout",
       "prompt_number": 43,
       "text": [
        "array([2012, 2013, 2012, 2012, 2012, 2012, 2012, 2013, 2012, 2012, 2012,\n",
        "       2012, 2013, 2013, 2013, 2012, 2012, 2012, 2012, 2012, 2012, 2012,\n",
        "       2012, 2012, 2012, 2012, 2012, 2012, 2012, 2012, 2012, 2012, 2013,\n",
        "       2012, 2012, 2012, 2012, 2012, 2012, 2012, 2012, 2012, 2012, 2012,\n",
        "       2012, 2012, 2012, 2012, 2012, 2012, 2012, 2013, 2013, 2012, 2012,\n",
        "       2012, 2012, 2012, 2012, 2012, 2012, 2012, 2012, 2012, 2012, 2012,\n",
        "       2013, 2013, 2012, 2012, 2013, 2012, 2012, 2012, 2012, 2013, 2012,\n",
        "       2012, 2012, 2012, 2013, 2012, 2012, 2012, 2012, 2012, 2012, 2012,\n",
        "       2012, 2012, 2012, 2012, 2012, 2012, 2012, 2012, 2012, 2012, 2012,\n",
        "       2012, 2012, 2012, 2012, 2012, 2012, 2012, 2013, 2013, 2013, 2013,\n",
        "       2012, 2012, 2012, 2012, 2012, 2012, 2012, 2012, 2013, 2012, 2013,\n",
        "       2012, 2012, 2012, 2012, 2012, 2013, 2013, 2013, 2012, 2012, 2012,\n",
        "       2012, 2012, 2012, 2012, 2012, 2012, 2012, 2012, 2012, 2013, 2012,\n",
        "       2012, 2012, 2012, 2012, 2012, 2012, 2012, 2012, 2012, 2012, 2012,\n",
        "       2013, 2012, 2012, 2013, 2012, 2013, 2013, 2012, 2012, 2012, 2012,\n",
        "       2012, 2012, 2012, 2012, 2012, 2013, 2013, 2012, 2012, 2012, 2012,\n",
        "       2012, 2012, 2012, 2012, 2012, 2012, 2012, 2012, 2012, 2012, 2012,\n",
        "       2013, 2013, 2013, 2012, 2012, 2012, 2012, 2012, 2012, 2012, 2013,\n",
        "       2012, 2012, 2013, 2012, 2012, 2012, 2012, 2013, 2012, 2012, 2012,\n",
        "       2012, 2012, 2012, 2012, 2012, 2012, 2012, 2012, 2012, 2012, 2012,\n",
        "       2012, 2012, 2011, 2012, 2012, 2012, 2012, 2012, 2012, 2013, 2013,\n",
        "       2012, 2012, 2012, 2013, 2012, 2012, 2012, 2012, 2012, 2012, 2012,\n",
        "       2012, 2012, 2012, 2012, 2012, 2012, 2012, 2012, 2012, 2012, 2012,\n",
        "       2012, 2012, 2012, 2012, 2012, 2011, 2011, 2012, 2012, 2012, 2012,\n",
        "       2012, 2012, 2012, 2012, 2012, 2012, 2013, 2012, 2012, 2012, 2012,\n",
        "       2012, 2012, 2012, 2012, 2011, 2012, 2012, 2012, 2012, 2012, 2012,\n",
        "       2013, 2013, 2013, 2012, 2012, 2012, 2011, 2012, 2013, 2011, 2011,\n",
        "       2011, 2012, 2012, 2012, 2013, 2012, 2012, 2012, 2012, 2012, 2012,\n",
        "       2012, 2013, 2013, 2012, 2012, 2012, 2012, 2012, 2012, 2013, 2011,\n",
        "       2012, 2012, 2012, 2013, 2013, 2012, 2012, 2012, 2012, 2012, 2012,\n",
        "       2012, 2012, 2012, 2012, 2012, 2012, 2012, 2012, 2012, 2013, 2013,\n",
        "       2013, 2013, 2012, 2012, 2012, 2012, 2012, 2012, 2012, 2012, 2013,\n",
        "       2012, 2012, 2012, 2012, 2012, 2012, 2012, 2013, 2012, 2012, 2012,\n",
        "       2012, 2012, 2012, 2012, 2012, 2012, 2012, 2012, 2012, 2013, 2012,\n",
        "       2012, 2012, 2012, 2012, 2012, 2012, 2012, 2012, 2012, 2012, 2011,\n",
        "       2011, 2011, 2012, 2012, 2011, 2012, 2012, 2012, 2012, 2012, 2012,\n",
        "       2012, 2012, 2013, 2012, 2012, 2012, 2012, 2012, 2013, 2012, 2012,\n",
        "       2012, 2012, 2013, 2013, 2013, 2013, 2013, 2013, 2013, 2012, 2012,\n",
        "       2012, 2012, 2012, 2012, 2012, 2012, 2012, 2012, 2012, 2012, 2012,\n",
        "       2012, 2012, 2012, 2012, 2012, 2013, 2012, 2012, 2012, 2012, 2012,\n",
        "       2012, 2012, 2012, 2012, 2012, 2013, 2012, 2013, 2012, 2012, 2012,\n",
        "       2012, 2012, 2012, 2012, 2012, 2012, 2012, 2012, 2012, 2012, 2012,\n",
        "       2012, 2012, 2012, 2012, 2012, 2013, 2012, 2012, 2012, 2012, 2012,\n",
        "       2012, 2012, 2012, 2012, 2012, 2012, 2013, 2012, 2012, 2012, 2012,\n",
        "       2012, 2013, 2012, 2012, 2012, 2012, 2012, 2012, 2012, 2012, 2012,\n",
        "       2012, 2012, 2012, 2012, 2012, 2013, 2012, 2012, 2012, 2012, 2012,\n",
        "       2012, 2012, 2012, 2012, 2012, 2012, 2012, 2012, 2012, 2012, 2012,\n",
        "       2012, 2012, 2012, 2012, 2012, 2012, 2013, 2012, 2012, 2012, 2013,\n",
        "       2012, 2012, 2012, 2012, 2012, 2012, 2012, 2012, 2013, 2012, 2012,\n",
        "       2012, 2012, 2012, 2012, 2012, 2012, 2013, 2012, 2012, 2012, 2012,\n",
        "       2012, 2013, 2012, 2012, 2012, 2012, 2012, 2012, 2012, 2012, 2012,\n",
        "       2012, 2012, 2013, 2012, 2013, 2012, 2012, 2013, 2012, 2012, 2012,\n",
        "       2012, 2012, 2012, 2012, 2012, 2012, 2012, 2013, 2012, 2012, 2012,\n",
        "       2012, 2012, 2013, 2012, 2012, 2012, 2012, 2012, 2012, 2012, 2012,\n",
        "       2012, 2012, 2012, 2012, 2012, 2012, 2012, 2013, 2012, 2012, 2012,\n",
        "       2012, 2012, 2012, 2012, 2012, 2012, 2012, 2012, 2012, 2012, 2012,\n",
        "       2013, 2012, 2012, 2012, 2012, 2012, 2012, 2012, 2012, 2013, 2012,\n",
        "       2012, 2013, 2013, 2013, 2012, 2012, 2012, 2012, 2012, 2012, 2012,\n",
        "       2012, 2012, 2012, 2012, 2012, 2012, 2012, 2012, 2012, 2012, 2012,\n",
        "       2012, 2012, 2012, 2012, 2012, 2012, 2012, 2012, 2012, 2012, 2012,\n",
        "       2012, 2012, 2012, 2012, 2012, 2012, 2013, 2012, 2012, 2013, 2012,\n",
        "       2012, 2012, 2012, 2012, 2012, 2013, 2013, 2012, 2012, 2012, 2012,\n",
        "       2012, 2012, 2012, 2012, 2012, 2012, 2012, 2012, 2012, 2013, 2013,\n",
        "       2013, 2012, 2012, 2012, 2012, 2012, 2013, 2013, 2012, 2012, 2013,\n",
        "       2012, 2012, 2012, 2012, 2012, 2012, 2012, 2012, 2012, 2013, 2012,\n",
        "       2012, 2012, 2013, 2013, 2012, 2012, 2012, 2012, 2013, 2013, 2012,\n",
        "       2012, 2012, 2012, 2012, 2012, 2012, 2012, 2012, 2012, 2012, 2012,\n",
        "       2012, 2012, 2012, 2013, 2012, 2012, 2012, 2012, 2012, 2012, 2012,\n",
        "       2013, 2012, 2013, 2012, 2012, 2012, 2012, 2012, 2012, 2012, 2012,\n",
        "       2012, 2012, 2013, 2013, 2013, 2013, 2012, 2013, 2012, 2012, 2013,\n",
        "       2013, 2012, 2012, 2012, 2012, 2012, 2012, 2012, 2013, 2013, 2012,\n",
        "       2012, 2013, 2013, 2012, 2012, 2012, 2012, 2012, 2012, 2012, 2012,\n",
        "       2012, 2012, 2012, 2012, 2012, 2012, 2012, 2012, 2012, 2012, 2012,\n",
        "       2013, 2012, 2012, 2012, 2012, 2012, 2012, 2012, 2012, 2012, 2012,\n",
        "       2012, 2012, 2012, 2012, 2012, 2013, 2012, 2012, 2012, 2012, 2012,\n",
        "       2012, 2012, 2012, 2012, 2012, 2012, 2012, 2012, 2012, 2012, 2012,\n",
        "       2012, 2012, 2012, 2012, 2012, 2013, 2013, 2013, 2012, 2012, 2012,\n",
        "       2012, 2012, 2013, 2013, 2012, 2012, 2013, 2013, 2012, 2012, 2012,\n",
        "       2013, 2012, 2012, 2012, 2012, 2012, 2012, 2012, 2012, 2012, 2013,\n",
        "       2013, 2012, 2012, 2012, 2013, 2013, 2012, 2012, 2012, 2013, 2012,\n",
        "       2012, 2012, 2012, 2012, 2012, 2012, 2012, 2013, 2012, 2013, 2012,\n",
        "       2012, 2012, 2013, 2012, 2012, 2012, 2013, 2012, 2012, 2013, 2013,\n",
        "       2013, 2013, 2013, 2013, 2012, 2012, 2012, 2013, 2012, 2013, 2012,\n",
        "       2012, 2012, 2013, 2013, 2013, 2013, 2012, 2012, 2012, 2012, 2012,\n",
        "       2012, 2012, 2012, 2013, 2013, 2013, 2013, 2013, 2013, 2013, 2013,\n",
        "       2013, 2013, 2013, 2013, 2013, 2013, 2013, 2013, 2013, 2013, 2013,\n",
        "       2013, 2013, 2013, 2013, 2013, 2013], dtype=int32)"
       ]
      }
     ],
     "prompt_number": 43
    },
    {
     "cell_type": "code",
     "collapsed": false,
     "input": [
      "views.groupby(views.index.year)"
     ],
     "language": "python",
     "metadata": {},
     "outputs": [
      {
       "output_type": "pyout",
       "prompt_number": 44,
       "text": [
        "<pandas.core.groupby.SeriesGroupBy at 0x10a1be6d0>"
       ]
      }
     ],
     "prompt_number": 44
    },
    {
     "cell_type": "code",
     "collapsed": false,
     "input": [
      "v = views.groupby(views.index.year)"
     ],
     "language": "python",
     "metadata": {},
     "outputs": [],
     "prompt_number": 45
    },
    {
     "cell_type": "code",
     "collapsed": false,
     "input": [
      "v\n"
     ],
     "language": "python",
     "metadata": {},
     "outputs": [
      {
       "output_type": "pyout",
       "prompt_number": 46,
       "text": [
        "<pandas.core.groupby.SeriesGroupBy at 0x10a356750>"
       ]
      }
     ],
     "prompt_number": 46
    },
    {
     "cell_type": "code",
     "collapsed": false,
     "input": [
      "v.sum()"
     ],
     "language": "python",
     "metadata": {},
     "outputs": [
      {
       "output_type": "pyout",
       "prompt_number": 47,
       "text": [
        "2011     25083\n",
        "2012    208237\n",
        "2013     10520"
       ]
      }
     ],
     "prompt_number": 47
    },
    {
     "cell_type": "code",
     "collapsed": false,
     "input": [
      "keys = [views.index.year]"
     ],
     "language": "python",
     "metadata": {},
     "outputs": [],
     "prompt_number": 48
    },
    {
     "cell_type": "code",
     "collapsed": false,
     "input": [
      "views.groupby(lambda x: x.weekday.sum())"
     ],
     "language": "python",
     "metadata": {},
     "outputs": [
      {
       "ename": "AttributeError",
       "evalue": "'builtin_function_or_method' object has no attribute 'sum'",
       "output_type": "pyerr",
       "traceback": [
        "\u001b[0;31m---------------------------------------------------------------------------\u001b[0m\n\u001b[0;31mAttributeError\u001b[0m                            Traceback (most recent call last)",
        "\u001b[0;32m<ipython-input-49-a24a66494d1a>\u001b[0m in \u001b[0;36m<module>\u001b[0;34m()\u001b[0m\n\u001b[0;32m----> 1\u001b[0;31m \u001b[0mviews\u001b[0m\u001b[0;34m.\u001b[0m\u001b[0mgroupby\u001b[0m\u001b[0;34m(\u001b[0m\u001b[0;32mlambda\u001b[0m \u001b[0mx\u001b[0m\u001b[0;34m:\u001b[0m \u001b[0mx\u001b[0m\u001b[0;34m.\u001b[0m\u001b[0mweekday\u001b[0m\u001b[0;34m.\u001b[0m\u001b[0msum\u001b[0m\u001b[0;34m(\u001b[0m\u001b[0;34m)\u001b[0m\u001b[0;34m)\u001b[0m\u001b[0;34m\u001b[0m\u001b[0m\n\u001b[0m",
        "\u001b[0;32m/Applications/anaconda/lib/python2.7/site-packages/pandas/core/generic.pyc\u001b[0m in \u001b[0;36mgroupby\u001b[0;34m(self, by, axis, level, as_index, sort, group_keys)\u001b[0m\n\u001b[1;32m    132\u001b[0m         \u001b[0;32mfrom\u001b[0m \u001b[0mpandas\u001b[0m\u001b[0;34m.\u001b[0m\u001b[0mcore\u001b[0m\u001b[0;34m.\u001b[0m\u001b[0mgroupby\u001b[0m \u001b[0;32mimport\u001b[0m \u001b[0mgroupby\u001b[0m\u001b[0;34m\u001b[0m\u001b[0m\n\u001b[1;32m    133\u001b[0m         return groupby(self, by, axis=axis, level=level, as_index=as_index,\n\u001b[0;32m--> 134\u001b[0;31m                        sort=sort, group_keys=group_keys)\n\u001b[0m\u001b[1;32m    135\u001b[0m \u001b[0;34m\u001b[0m\u001b[0m\n\u001b[1;32m    136\u001b[0m     \u001b[0;32mdef\u001b[0m \u001b[0masfreq\u001b[0m\u001b[0;34m(\u001b[0m\u001b[0mself\u001b[0m\u001b[0;34m,\u001b[0m \u001b[0mfreq\u001b[0m\u001b[0;34m,\u001b[0m \u001b[0mmethod\u001b[0m\u001b[0;34m=\u001b[0m\u001b[0mNone\u001b[0m\u001b[0;34m,\u001b[0m \u001b[0mhow\u001b[0m\u001b[0;34m=\u001b[0m\u001b[0mNone\u001b[0m\u001b[0;34m)\u001b[0m\u001b[0;34m:\u001b[0m\u001b[0;34m\u001b[0m\u001b[0m\n",
        "\u001b[0;32m/Applications/anaconda/lib/python2.7/site-packages/pandas/core/groupby.pyc\u001b[0m in \u001b[0;36mgroupby\u001b[0;34m(obj, by, **kwds)\u001b[0m\n\u001b[1;32m    478\u001b[0m         \u001b[0;32mraise\u001b[0m \u001b[0mTypeError\u001b[0m\u001b[0;34m(\u001b[0m\u001b[0;34m'invalid type: %s'\u001b[0m \u001b[0;34m%\u001b[0m \u001b[0mtype\u001b[0m\u001b[0;34m(\u001b[0m\u001b[0mobj\u001b[0m\u001b[0;34m)\u001b[0m\u001b[0;34m)\u001b[0m\u001b[0;34m\u001b[0m\u001b[0m\n\u001b[1;32m    479\u001b[0m \u001b[0;34m\u001b[0m\u001b[0m\n\u001b[0;32m--> 480\u001b[0;31m     \u001b[0;32mreturn\u001b[0m \u001b[0mklass\u001b[0m\u001b[0;34m(\u001b[0m\u001b[0mobj\u001b[0m\u001b[0;34m,\u001b[0m \u001b[0mby\u001b[0m\u001b[0;34m,\u001b[0m \u001b[0;34m**\u001b[0m\u001b[0mkwds\u001b[0m\u001b[0;34m)\u001b[0m\u001b[0;34m\u001b[0m\u001b[0m\n\u001b[0m\u001b[1;32m    481\u001b[0m \u001b[0;34m\u001b[0m\u001b[0m\n\u001b[1;32m    482\u001b[0m \u001b[0;32mdef\u001b[0m \u001b[0m_get_axes\u001b[0m\u001b[0;34m(\u001b[0m\u001b[0mgroup\u001b[0m\u001b[0;34m)\u001b[0m\u001b[0;34m:\u001b[0m\u001b[0;34m\u001b[0m\u001b[0m\n",
        "\u001b[0;32m/Applications/anaconda/lib/python2.7/site-packages/pandas/core/groupby.pyc\u001b[0m in \u001b[0;36m__init__\u001b[0;34m(self, obj, keys, axis, level, grouper, exclusions, selection, as_index, sort, group_keys)\u001b[0m\n\u001b[1;32m    144\u001b[0m         \u001b[0;32mif\u001b[0m \u001b[0mgrouper\u001b[0m \u001b[0;32mis\u001b[0m \u001b[0mNone\u001b[0m\u001b[0;34m:\u001b[0m\u001b[0;34m\u001b[0m\u001b[0m\n\u001b[1;32m    145\u001b[0m             grouper, exclusions = _get_grouper(obj, keys, axis=axis,\n\u001b[0;32m--> 146\u001b[0;31m                                                level=level, sort=sort)\n\u001b[0m\u001b[1;32m    147\u001b[0m \u001b[0;34m\u001b[0m\u001b[0m\n\u001b[1;32m    148\u001b[0m         \u001b[0mself\u001b[0m\u001b[0;34m.\u001b[0m\u001b[0mgrouper\u001b[0m \u001b[0;34m=\u001b[0m \u001b[0mgrouper\u001b[0m\u001b[0;34m\u001b[0m\u001b[0m\n",
        "\u001b[0;32m/Applications/anaconda/lib/python2.7/site-packages/pandas/core/groupby.pyc\u001b[0m in \u001b[0;36m_get_grouper\u001b[0;34m(obj, key, axis, level, sort)\u001b[0m\n\u001b[1;32m   1175\u001b[0m             \u001b[0mname\u001b[0m \u001b[0;34m=\u001b[0m \u001b[0mgpr\u001b[0m\u001b[0;34m\u001b[0m\u001b[0m\n\u001b[1;32m   1176\u001b[0m             \u001b[0mgpr\u001b[0m \u001b[0;34m=\u001b[0m \u001b[0mobj\u001b[0m\u001b[0;34m[\u001b[0m\u001b[0mgpr\u001b[0m\u001b[0;34m]\u001b[0m\u001b[0;34m\u001b[0m\u001b[0m\n\u001b[0;32m-> 1177\u001b[0;31m         \u001b[0mping\u001b[0m \u001b[0;34m=\u001b[0m \u001b[0mGrouping\u001b[0m\u001b[0;34m(\u001b[0m\u001b[0mgroup_axis\u001b[0m\u001b[0;34m,\u001b[0m \u001b[0mgpr\u001b[0m\u001b[0;34m,\u001b[0m \u001b[0mname\u001b[0m\u001b[0;34m=\u001b[0m\u001b[0mname\u001b[0m\u001b[0;34m,\u001b[0m \u001b[0mlevel\u001b[0m\u001b[0;34m=\u001b[0m\u001b[0mlevel\u001b[0m\u001b[0;34m,\u001b[0m \u001b[0msort\u001b[0m\u001b[0;34m=\u001b[0m\u001b[0msort\u001b[0m\u001b[0;34m)\u001b[0m\u001b[0;34m\u001b[0m\u001b[0m\n\u001b[0m\u001b[1;32m   1178\u001b[0m         \u001b[0mgroupings\u001b[0m\u001b[0;34m.\u001b[0m\u001b[0mappend\u001b[0m\u001b[0;34m(\u001b[0m\u001b[0mping\u001b[0m\u001b[0;34m)\u001b[0m\u001b[0;34m\u001b[0m\u001b[0m\n\u001b[1;32m   1179\u001b[0m \u001b[0;34m\u001b[0m\u001b[0m\n",
        "\u001b[0;32m/Applications/anaconda/lib/python2.7/site-packages/pandas/core/groupby.pyc\u001b[0m in \u001b[0;36m__init__\u001b[0;34m(self, index, grouper, name, level, sort)\u001b[0m\n\u001b[1;32m   1052\u001b[0m             \u001b[0;31m# no level passed\u001b[0m\u001b[0;34m\u001b[0m\u001b[0;34m\u001b[0m\u001b[0m\n\u001b[1;32m   1053\u001b[0m             \u001b[0;32mif\u001b[0m \u001b[0;32mnot\u001b[0m \u001b[0misinstance\u001b[0m\u001b[0;34m(\u001b[0m\u001b[0mself\u001b[0m\u001b[0;34m.\u001b[0m\u001b[0mgrouper\u001b[0m\u001b[0;34m,\u001b[0m \u001b[0mnp\u001b[0m\u001b[0;34m.\u001b[0m\u001b[0mndarray\u001b[0m\u001b[0;34m)\u001b[0m\u001b[0;34m:\u001b[0m\u001b[0;34m\u001b[0m\u001b[0m\n\u001b[0;32m-> 1054\u001b[0;31m                 \u001b[0mself\u001b[0m\u001b[0;34m.\u001b[0m\u001b[0mgrouper\u001b[0m \u001b[0;34m=\u001b[0m \u001b[0mself\u001b[0m\u001b[0;34m.\u001b[0m\u001b[0mindex\u001b[0m\u001b[0;34m.\u001b[0m\u001b[0mmap\u001b[0m\u001b[0;34m(\u001b[0m\u001b[0mself\u001b[0m\u001b[0;34m.\u001b[0m\u001b[0mgrouper\u001b[0m\u001b[0;34m)\u001b[0m\u001b[0;34m\u001b[0m\u001b[0m\n\u001b[0m\u001b[1;32m   1055\u001b[0m \u001b[0;34m\u001b[0m\u001b[0m\n\u001b[1;32m   1056\u001b[0m     \u001b[0;32mdef\u001b[0m \u001b[0m__repr__\u001b[0m\u001b[0;34m(\u001b[0m\u001b[0mself\u001b[0m\u001b[0;34m)\u001b[0m\u001b[0;34m:\u001b[0m\u001b[0;34m\u001b[0m\u001b[0m\n",
        "\u001b[0;32m/Applications/anaconda/lib/python2.7/site-packages/pandas/tseries/index.pyc\u001b[0m in \u001b[0;36mmap\u001b[0;34m(self, f)\u001b[0m\n\u001b[1;32m   1120\u001b[0m             \u001b[0;32mreturn\u001b[0m \u001b[0mresult\u001b[0m\u001b[0;34m\u001b[0m\u001b[0m\n\u001b[1;32m   1121\u001b[0m         \u001b[0;32mexcept\u001b[0m \u001b[0mException\u001b[0m\u001b[0;34m:\u001b[0m\u001b[0;34m\u001b[0m\u001b[0m\n\u001b[0;32m-> 1122\u001b[0;31m             \u001b[0;32mreturn\u001b[0m \u001b[0m_algos\u001b[0m\u001b[0;34m.\u001b[0m\u001b[0marrmap_object\u001b[0m\u001b[0;34m(\u001b[0m\u001b[0mself\u001b[0m\u001b[0;34m.\u001b[0m\u001b[0masobject\u001b[0m\u001b[0;34m,\u001b[0m \u001b[0mf\u001b[0m\u001b[0;34m)\u001b[0m\u001b[0;34m\u001b[0m\u001b[0m\n\u001b[0m\u001b[1;32m   1123\u001b[0m \u001b[0;34m\u001b[0m\u001b[0m\n\u001b[1;32m   1124\u001b[0m     \u001b[0;31m# alias to offset\u001b[0m\u001b[0;34m\u001b[0m\u001b[0;34m\u001b[0m\u001b[0m\n",
        "\u001b[0;32m/Applications/anaconda/lib/python2.7/site-packages/pandas/_algos.so\u001b[0m in \u001b[0;36mpandas._algos.arrmap_object (pandas/src/generated.c:24593)\u001b[0;34m()\u001b[0m\n",
        "\u001b[0;32m<ipython-input-49-a24a66494d1a>\u001b[0m in \u001b[0;36m<lambda>\u001b[0;34m(x)\u001b[0m\n\u001b[0;32m----> 1\u001b[0;31m \u001b[0mviews\u001b[0m\u001b[0;34m.\u001b[0m\u001b[0mgroupby\u001b[0m\u001b[0;34m(\u001b[0m\u001b[0;32mlambda\u001b[0m \u001b[0mx\u001b[0m\u001b[0;34m:\u001b[0m \u001b[0mx\u001b[0m\u001b[0;34m.\u001b[0m\u001b[0mweekday\u001b[0m\u001b[0;34m.\u001b[0m\u001b[0msum\u001b[0m\u001b[0;34m(\u001b[0m\u001b[0;34m)\u001b[0m\u001b[0;34m)\u001b[0m\u001b[0;34m\u001b[0m\u001b[0m\n\u001b[0m",
        "\u001b[0;31mAttributeError\u001b[0m: 'builtin_function_or_method' object has no attribute 'sum'"
       ]
      }
     ],
     "prompt_number": 49
    },
    {
     "cell_type": "code",
     "collapsed": false,
     "input": [
      "views.groupby(lambda x: x.weekday()).sum()"
     ],
     "language": "python",
     "metadata": {},
     "outputs": [
      {
       "output_type": "pyout",
       "prompt_number": 50,
       "text": [
        "0    25306\n",
        "1    44788\n",
        "2    42997\n",
        "3    44777\n",
        "4    36594\n",
        "5    21288\n",
        "6    28090"
       ]
      }
     ],
     "prompt_number": 50
    },
    {
     "cell_type": "code",
     "collapsed": false,
     "input": [
      "# MultiIndex object"
     ],
     "language": "python",
     "metadata": {},
     "outputs": [],
     "prompt_number": 51
    },
    {
     "cell_type": "code",
     "collapsed": false,
     "input": [
      "keys = [views.index.year, views.index.month]\n",
      "result = views.groupby(keys).sum()"
     ],
     "language": "python",
     "metadata": {},
     "outputs": [],
     "prompt_number": 52
    },
    {
     "cell_type": "code",
     "collapsed": false,
     "input": [
      "result"
     ],
     "language": "python",
     "metadata": {},
     "outputs": [
      {
       "output_type": "pyout",
       "prompt_number": 53,
       "text": [
        "2011  3      1128\n",
        "      4      3914\n",
        "      5      6454\n",
        "      6      2035\n",
        "      9       960\n",
        "      10     8590\n",
        "      11     1203\n",
        "      12      799\n",
        "2012  1      4901\n",
        "      2      3137\n",
        "      3     19587\n",
        "      4     16477\n",
        "      5     24072\n",
        "      6     21305\n",
        "      7     28852\n",
        "      8     26752\n",
        "      9     21712\n",
        "      10    16909\n",
        "      11    13561\n",
        "      12    10972\n",
        "2013  1     10106\n",
        "      2       414"
       ]
      }
     ],
     "prompt_number": 53
    },
    {
     "cell_type": "code",
     "collapsed": false,
     "input": [
      "result.unstack"
     ],
     "language": "python",
     "metadata": {},
     "outputs": [
      {
       "output_type": "pyout",
       "prompt_number": 54,
       "text": [
        "<bound method Series.unstack of 2011  3      1128\n",
        "      4      3914\n",
        "      5      6454\n",
        "      6      2035\n",
        "      9       960\n",
        "      10     8590\n",
        "      11     1203\n",
        "      12      799\n",
        "2012  1      4901\n",
        "      2      3137\n",
        "      3     19587\n",
        "      4     16477\n",
        "      5     24072\n",
        "      6     21305\n",
        "      7     28852\n",
        "      8     26752\n",
        "      9     21712\n",
        "      10    16909\n",
        "      11    13561\n",
        "      12    10972\n",
        "2013  1     10106\n",
        "      2       414>"
       ]
      }
     ],
     "prompt_number": 54
    },
    {
     "cell_type": "code",
     "collapsed": false,
     "input": [
      "result.unstack(0)"
     ],
     "language": "python",
     "metadata": {},
     "outputs": [
      {
       "html": [
        "<div style=\"max-height:1000px;max-width:1500px;overflow:auto;\">\n",
        "<table border=\"1\" class=\"dataframe\">\n",
        "  <thead>\n",
        "    <tr style=\"text-align: right;\">\n",
        "      <th></th>\n",
        "      <th>2011</th>\n",
        "      <th>2012</th>\n",
        "      <th>2013</th>\n",
        "    </tr>\n",
        "  </thead>\n",
        "  <tbody>\n",
        "    <tr>\n",
        "      <td><strong>1 </strong></td>\n",
        "      <td>  NaN</td>\n",
        "      <td>  4901</td>\n",
        "      <td> 10106</td>\n",
        "    </tr>\n",
        "    <tr>\n",
        "      <td><strong>2 </strong></td>\n",
        "      <td>  NaN</td>\n",
        "      <td>  3137</td>\n",
        "      <td>   414</td>\n",
        "    </tr>\n",
        "    <tr>\n",
        "      <td><strong>3 </strong></td>\n",
        "      <td> 1128</td>\n",
        "      <td> 19587</td>\n",
        "      <td>   NaN</td>\n",
        "    </tr>\n",
        "    <tr>\n",
        "      <td><strong>4 </strong></td>\n",
        "      <td> 3914</td>\n",
        "      <td> 16477</td>\n",
        "      <td>   NaN</td>\n",
        "    </tr>\n",
        "    <tr>\n",
        "      <td><strong>5 </strong></td>\n",
        "      <td> 6454</td>\n",
        "      <td> 24072</td>\n",
        "      <td>   NaN</td>\n",
        "    </tr>\n",
        "    <tr>\n",
        "      <td><strong>6 </strong></td>\n",
        "      <td> 2035</td>\n",
        "      <td> 21305</td>\n",
        "      <td>   NaN</td>\n",
        "    </tr>\n",
        "    <tr>\n",
        "      <td><strong>7 </strong></td>\n",
        "      <td>  NaN</td>\n",
        "      <td> 28852</td>\n",
        "      <td>   NaN</td>\n",
        "    </tr>\n",
        "    <tr>\n",
        "      <td><strong>8 </strong></td>\n",
        "      <td>  NaN</td>\n",
        "      <td> 26752</td>\n",
        "      <td>   NaN</td>\n",
        "    </tr>\n",
        "    <tr>\n",
        "      <td><strong>9 </strong></td>\n",
        "      <td>  960</td>\n",
        "      <td> 21712</td>\n",
        "      <td>   NaN</td>\n",
        "    </tr>\n",
        "    <tr>\n",
        "      <td><strong>10</strong></td>\n",
        "      <td> 8590</td>\n",
        "      <td> 16909</td>\n",
        "      <td>   NaN</td>\n",
        "    </tr>\n",
        "    <tr>\n",
        "      <td><strong>11</strong></td>\n",
        "      <td> 1203</td>\n",
        "      <td> 13561</td>\n",
        "      <td>   NaN</td>\n",
        "    </tr>\n",
        "    <tr>\n",
        "      <td><strong>12</strong></td>\n",
        "      <td>  799</td>\n",
        "      <td> 10972</td>\n",
        "      <td>   NaN</td>\n",
        "    </tr>\n",
        "  </tbody>\n",
        "</table>\n",
        "</div>"
       ],
       "output_type": "pyout",
       "prompt_number": 55,
       "text": [
        "    2011   2012   2013\n",
        "1    NaN   4901  10106\n",
        "2    NaN   3137    414\n",
        "3   1128  19587    NaN\n",
        "4   3914  16477    NaN\n",
        "5   6454  24072    NaN\n",
        "6   2035  21305    NaN\n",
        "7    NaN  28852    NaN\n",
        "8    NaN  26752    NaN\n",
        "9    960  21712    NaN\n",
        "10  8590  16909    NaN\n",
        "11  1203  13561    NaN\n",
        "12   799  10972    NaN"
       ]
      }
     ],
     "prompt_number": 55
    },
    {
     "cell_type": "code",
     "collapsed": false,
     "input": [
      "result.unstack(0).mean(1)"
     ],
     "language": "python",
     "metadata": {},
     "outputs": [
      {
       "output_type": "pyout",
       "prompt_number": 56,
       "text": [
        "1      7503.5\n",
        "2      1775.5\n",
        "3     10357.5\n",
        "4     10195.5\n",
        "5     15263.0\n",
        "6     11670.0\n",
        "7     28852.0\n",
        "8     26752.0\n",
        "9     11336.0\n",
        "10    12749.5\n",
        "11     7382.0\n",
        "12     5885.5"
       ]
      }
     ],
     "prompt_number": 56
    },
    {
     "cell_type": "code",
     "collapsed": false,
     "input": [
      "result2 = result.unstack(0).mean(1)"
     ],
     "language": "python",
     "metadata": {},
     "outputs": [],
     "prompt_number": 57
    },
    {
     "cell_type": "code",
     "collapsed": false,
     "input": [
      "result2.index.name='month'"
     ],
     "language": "python",
     "metadata": {},
     "outputs": [],
     "prompt_number": 62
    },
    {
     "cell_type": "code",
     "collapsed": false,
     "input": [
      "result2.columns.name='year'"
     ],
     "language": "python",
     "metadata": {},
     "outputs": [],
     "prompt_number": 63
    },
    {
     "cell_type": "code",
     "collapsed": false,
     "input": [
      "result2"
     ],
     "language": "python",
     "metadata": {},
     "outputs": [
      {
       "html": [
        "<div style=\"max-height:1000px;max-width:1500px;overflow:auto;\">\n",
        "<table border=\"1\" class=\"dataframe\">\n",
        "  <thead>\n",
        "    <tr style=\"text-align: right;\">\n",
        "      <th>year</th>\n",
        "      <th>2011</th>\n",
        "      <th>2012</th>\n",
        "      <th>2013</th>\n",
        "    </tr>\n",
        "    <tr>\n",
        "      <th>month</th>\n",
        "      <th></th>\n",
        "      <th></th>\n",
        "      <th></th>\n",
        "    </tr>\n",
        "  </thead>\n",
        "  <tbody>\n",
        "    <tr>\n",
        "      <td><strong>1 </strong></td>\n",
        "      <td>  NaN</td>\n",
        "      <td>  4901</td>\n",
        "      <td> 10106</td>\n",
        "    </tr>\n",
        "    <tr>\n",
        "      <td><strong>2 </strong></td>\n",
        "      <td>  NaN</td>\n",
        "      <td>  3137</td>\n",
        "      <td>   414</td>\n",
        "    </tr>\n",
        "    <tr>\n",
        "      <td><strong>3 </strong></td>\n",
        "      <td> 1128</td>\n",
        "      <td> 19587</td>\n",
        "      <td>   NaN</td>\n",
        "    </tr>\n",
        "    <tr>\n",
        "      <td><strong>4 </strong></td>\n",
        "      <td> 3914</td>\n",
        "      <td> 16477</td>\n",
        "      <td>   NaN</td>\n",
        "    </tr>\n",
        "    <tr>\n",
        "      <td><strong>5 </strong></td>\n",
        "      <td> 6454</td>\n",
        "      <td> 24072</td>\n",
        "      <td>   NaN</td>\n",
        "    </tr>\n",
        "    <tr>\n",
        "      <td><strong>6 </strong></td>\n",
        "      <td> 2035</td>\n",
        "      <td> 21305</td>\n",
        "      <td>   NaN</td>\n",
        "    </tr>\n",
        "    <tr>\n",
        "      <td><strong>7 </strong></td>\n",
        "      <td>  NaN</td>\n",
        "      <td> 28852</td>\n",
        "      <td>   NaN</td>\n",
        "    </tr>\n",
        "    <tr>\n",
        "      <td><strong>8 </strong></td>\n",
        "      <td>  NaN</td>\n",
        "      <td> 26752</td>\n",
        "      <td>   NaN</td>\n",
        "    </tr>\n",
        "    <tr>\n",
        "      <td><strong>9 </strong></td>\n",
        "      <td>  960</td>\n",
        "      <td> 21712</td>\n",
        "      <td>   NaN</td>\n",
        "    </tr>\n",
        "    <tr>\n",
        "      <td><strong>10</strong></td>\n",
        "      <td> 8590</td>\n",
        "      <td> 16909</td>\n",
        "      <td>   NaN</td>\n",
        "    </tr>\n",
        "    <tr>\n",
        "      <td><strong>11</strong></td>\n",
        "      <td> 1203</td>\n",
        "      <td> 13561</td>\n",
        "      <td>   NaN</td>\n",
        "    </tr>\n",
        "    <tr>\n",
        "      <td><strong>12</strong></td>\n",
        "      <td>  799</td>\n",
        "      <td> 10972</td>\n",
        "      <td>   NaN</td>\n",
        "    </tr>\n",
        "  </tbody>\n",
        "</table>\n",
        "</div>"
       ],
       "output_type": "pyout",
       "prompt_number": 64,
       "text": [
        "year   2011   2012   2013\n",
        "month                    \n",
        "1       NaN   4901  10106\n",
        "2       NaN   3137    414\n",
        "3      1128  19587    NaN\n",
        "4      3914  16477    NaN\n",
        "5      6454  24072    NaN\n",
        "6      2035  21305    NaN\n",
        "7       NaN  28852    NaN\n",
        "8       NaN  26752    NaN\n",
        "9       960  21712    NaN\n",
        "10     8590  16909    NaN\n",
        "11     1203  13561    NaN\n",
        "12      799  10972    NaN"
       ]
      }
     ],
     "prompt_number": 64
    },
    {
     "cell_type": "code",
     "collapsed": false,
     "input": [
      "# look at .aggregate(), .sort(), resample('M', how='count', 'sum', ), cut() by buckets, create categorical representation\n",
      "# look at .apply(my_func)\n",
      "# look at .ix[...]"
     ],
     "language": "python",
     "metadata": {},
     "outputs": [],
     "prompt_number": 65
    },
    {
     "cell_type": "code",
     "collapsed": false,
     "input": [],
     "language": "python",
     "metadata": {},
     "outputs": []
    }
   ],
   "metadata": {}
  }
 ]
}