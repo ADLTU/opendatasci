{
 "metadata": {
  "name": "C1. How do I make a decision that requires a sequence of questions?"
 },
 "nbformat": 3,
 "nbformat_minor": 0,
 "worksheets": [
  {
   "cells": [
    {
     "cell_type": "markdown",
     "metadata": {},
     "source": [
      "## Using decision trees to filter through sets of attributes and create multiple buckets of similar things\n",
      "## How do I handle data when the number of variables is very high? (Random Forests)\n"
     ]
    },
    {
     "cell_type": "code",
     "collapsed": false,
     "input": [
      "#Note to reviewers this lesson (the exposition for decision trees) is not complete.  Only has an outline for review - need to get thumbs up/down on outline."
     ],
     "language": "python",
     "metadata": {},
     "outputs": [],
     "prompt_number": 2
    },
    {
     "cell_type": "markdown",
     "metadata": {},
     "source": [
      "#### Outline"
     ]
    },
    {
     "cell_type": "markdown",
     "metadata": {},
     "source": [
      "* \"Common experience\" version of a set that needs to be partitioned, or an item that needs to be labelled based on attributes\n",
      "* Have one pure set of one value (say red), another pure set of another value (say green), and a mixed set with an 80 red/20 green mixture.\n",
      "* Would the third set be called a red or a green set?\n",
      "* What if it was 60/40?\n",
      "* Why do we feel more \"confident\" of the first one being \"red\" than the second one?\n",
      "* Lead into discussion of \"purity\".\n",
      "* Back up and discuss information and entropy.\n",
      "* repeat the execise with a \"just enough math discussion\" of information and purity.\n",
      "* Question: do we discuss Gini Coefficient?\n",
      "\n",
      "* Now create an example of an ensemble of trees.\n",
      "* Lead into Random Forests.\n",
      "* Explain why these are important - especially in variable selection."
     ]
    },
    {
     "cell_type": "code",
     "collapsed": false,
     "input": [],
     "language": "python",
     "metadata": {},
     "outputs": []
    }
   ],
   "metadata": {}
  }
 ]
}