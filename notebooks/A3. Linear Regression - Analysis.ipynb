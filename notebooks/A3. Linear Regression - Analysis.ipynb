{
 "metadata": {
  "name": "A3. Linear Regression - Analysis"
 },
 "nbformat": 3,
 "nbformat_minor": 0,
 "worksheets": [
  {
   "cells": [
    {
     "cell_type": "markdown",
     "metadata": {},
     "source": [
      "Linear Regression - Analysis\n",
      "============\n",
      "***\n",
      "\n",
      "We're going to pick up where we left off at the end of the exploration and define a linear model with two independent variables determining the dependent variable Interest Rate.\n",
      "\n",
      "Our investigation is now defined as\n",
      "\n",
      "_Investigate FICO Score and Loan Amount as predictors of Interest Rate for the Lending Club sample of 2500 loans._\n",
      "\n",
      "We use Multivariate Linear Regression to model Interest Rate varying with FICO Score and Loan Amount using :- \n",
      "\n",
      "$$InterestRate = a_0 + a_1 * FICOScore + a_2 * LoanAmount$$\n",
      "\n",
      "We're going to use our modeling software to generate the model coefficients $a_0$, $a_1$ and $a_2$ and then some error estimates that we'll only touch upon lightly at this point. \n"
     ]
    },
    {
     "cell_type": "code",
     "collapsed": false,
     "input": [
      "%%R \n",
      "data <- read.csv('~/git/opendst/datasets/loanf.csv')\n",
      "model <-  lm(data$Interest.Rate ~ data$FICO.Score + data$Loan.Amount)\n",
      "sumry <- summary(model)\n",
      "print(model$coefficients)\n",
      "print(\"---------\")\n",
      "print(sumry$coefficients) \n",
      "print(\"R-Squared = \")\n",
      "print(sumry$r.squared)  "
     ],
     "language": "python",
     "metadata": {},
     "outputs": [
      {
       "output_type": "display_data",
       "text": [
        "     (Intercept)  data$FICO.Score data$Loan.Amount \n",
        "   72.8827983168    -0.0884424222     0.0002107478 \n",
        "[1] \"---------\"\n",
        "                      Estimate   Std. Error   t value     Pr(>|t|)\n",
        "(Intercept)      72.8827983168 9.884525e-01  73.73424  0.00000e+00\n",
        "data$FICO.Score  -0.0884424222 1.403347e-03 -63.02249  0.00000e+00\n",
        "data$Loan.Amount  0.0002107478 6.301788e-06  33.44253 5.96973e-203\n",
        "[1] \"R-Squared = \"\n",
        "[1] 0.6566326\n"
       ]
      }
     ],
     "prompt_number": 34
    },
    {
     "cell_type": "markdown",
     "metadata": {},
     "source": [
      "So we have a lot of numbers here and we're going to understand some of them.\n",
      "\n",
      "First of all the top two lines - the second line contains numbers with their labels above them.  These are the $a_0$, $a_1$ and $a_2$ respectively.  The labels are self explanatory.\n",
      "   \n",
      "How good are these numbers, how reliable?   We're going to learn a very simple pragmatic way to use a couple of these.  \n",
      "\n",
      "Let's look at the second set of numbers.  First of all the first column is just the set of coefficients laid out vertically.  We're only going to look at one other column for now - the last one. The last column is a number we want to be close to zero and certainly $<=$ 0.05. For now suffice it to say that if we have this true for each of our coefficients then we have good confidence in the model.  \n",
      "\n",
      "Finally we look at the last two lines.  $R$-$squared$ or $R^2$  is a measure of how much of the variance in the data is captured by the model.  What does this mean? For now let's understand this as a measure of how well the model captures the spread of the observed values not just the average trend.  \n",
      "\n",
      "A high $R^2$ would be close to 1.0 a low one close to 0.  The value we have is 0.65 which is a reasonably good one.  The details of these error estimates deserve a separate discussion which we defer for another more detailed lesson.\n",
      "\n",
      "In summary we have a linear multivariate regression model for Interest Rate based on FICO score and Loan Amount which is well described by the parameters above.\n",
      "\n",
      "[[ Expand content here a bit perhaps for 0.2 ]]"
     ]
    },
    {
     "cell_type": "code",
     "collapsed": false,
     "input": [
      "from IPython.core.display import HTML\n",
      "def css_styling():\n",
      "    styles = open(\"../styles/custom.css\", \"r\").read()\n",
      "    return HTML(styles)\n",
      "css_styling()"
     ],
     "language": "python",
     "metadata": {},
     "outputs": [
      {
       "html": [
        "<style>\n",
        "    @font-face {\n",
        "        font-family: \"Computer Modern\";\n",
        "        src: url('http://mirrors.ctan.org/fonts/cm-unicode/fonts/otf/cmunss.otf');\n",
        "    }\n",
        "    div.cell{\n",
        "        width:800px;\n",
        "        margin-left:auto;\n",
        "        margin-right:auto;\n",
        "    }\n",
        "    h1 {\n",
        "        font-family: \"Charis SIL\", Palatino, serif;\n",
        "    }\n",
        "    h4{\n",
        "        margin-top:12px;\n",
        "        margin-bottom: 3px;\n",
        "       }\n",
        "    div.text_cell_render{\n",
        "        font-family: Computer Modern, \"Helvetica Neue\", Arial, Helvetica, Geneva, sans-serif;\n",
        "        line-height: 145%;\n",
        "        font-size: 120%;\n",
        "        width:800px;\n",
        "        margin-left:auto;\n",
        "        margin-right:auto;\n",
        "    }\n",
        "    .CodeMirror{\n",
        "            font-family: \"Source Code Pro\", source-code-pro,Consolas, monospace;\n",
        "    }\n",
        "    .prompt{\n",
        "        display: None;\n",
        "    }\n",
        "    .text_cell_render h5 {\n",
        "        font-weight: 300;\n",
        "        font-size: 16pt;\n",
        "        color: #4057A1;\n",
        "        font-style: italic;\n",
        "        margin-bottom: .5em;\n",
        "        margin-top: 0.5em;\n",
        "        display: block;\n",
        "    }\n",
        "    \n",
        "    .warning{\n",
        "        color: rgb( 240, 20, 20 )\n",
        "        }\n",
        "</style>\n",
        "<script>\n",
        "    MathJax.Hub.Config({\n",
        "                        TeX: {\n",
        "                           extensions: [\"AMSmath.js\"]\n",
        "                           },\n",
        "                tex2jax: {\n",
        "                    inlineMath: [ ['$','$'], [\"\\\\(\",\"\\\\)\"] ],\n",
        "                    displayMath: [ ['$$','$$'], [\"\\\\[\",\"\\\\]\"] ]\n",
        "                },\n",
        "                displayAlign: 'center', // Change this to 'center' to center equations.\n",
        "                \"HTML-CSS\": {\n",
        "                    styles: {'.MathJax_Display': {\"margin\": 4}}\n",
        "                }\n",
        "        });\n",
        "</script>"
       ],
       "output_type": "pyout",
       "prompt_number": 1,
       "text": [
        "<IPython.core.display.HTML at 0x10931ba90>"
       ]
      }
     ],
     "prompt_number": 1
    },
    {
     "cell_type": "code",
     "collapsed": false,
     "input": [],
     "language": "python",
     "metadata": {},
     "outputs": []
    }
   ],
   "metadata": {}
  }
 ]
}