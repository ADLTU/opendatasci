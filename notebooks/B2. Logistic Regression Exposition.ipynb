{
 "metadata": {
  "name": "B2. Logistic Regression Exposition"
 },
 "nbformat": 3,
 "nbformat_minor": 0,
 "worksheets": [
  {
   "cells": [
    {
     "cell_type": "code",
     "collapsed": false,
     "input": [],
     "language": "python",
     "metadata": {},
     "outputs": []
    }
   ],
   "metadata": {}
  }
 ]
}