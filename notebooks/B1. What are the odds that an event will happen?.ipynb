{
 "metadata": {
  "name": "B1. What are the odds that an event will happen?"
 },
 "nbformat": 3,
 "nbformat_minor": 0,
 "worksheets": [
  {
   "cells": [
    {
     "cell_type": "markdown",
     "metadata": {},
     "source": [
      "##Using Logistic Regression to predict Yes/No outcomes##\n",
      "\n",
      "\n",
      "Often we have to resolve questions with binary or Yes/No outcomes.\n",
      "\n",
      "\n",
      "For example:\n",
      "\n",
      "_Does a patient have cancer?_\n",
      "\n",
      "_Will a team win the next game?_\n",
      "\n",
      "_Will the customer buy my product?_\n",
      "\n",
      "_Will I get the loan?_\n",
      "\n",
      "\n",
      "\n"
     ]
    },
    {
     "cell_type": "markdown",
     "metadata": {},
     "source": [
      "##A familiar example\n",
      "\n",
      "We are going to start by plotting something we understand in the real world, although we may never actually have plotted it before.\n",
      "Let's say on the X axis is the number of goals scored by an NFL team over a season and say the outcome on the Y axis is whether they lost or won the game indicated by a value of 0 or 1 respectively.  \n",
      "\n",
      "Then a plot for these scores might look like this.\n",
      "\n",
      "\n",
      "[[ plot of bivalued points Score vs Win/Loss ]]\n",
      "\n",
      "\n",
      "So how do we predict whether we have a win or a loss if we are given a score?  \n",
      "Clearly linear regression is not a good model.\n",
      "\n",
      "Take a look at this.  \n",
      "\n",
      "[[ binary outcomes w linear plot ]]  \n",
      "\n",
      "We need a better way to model our data.  \n",
      "\n"
     ]
    },
    {
     "cell_type": "markdown",
     "metadata": {},
     "source": [
      "We are going to do this in two steps.\n",
      "First we will just pull a function out of the data science bag of tricks and show that it works reasonably well.\n",
      "\n",
      "And then we are going to understand how we came up with that function and how it is related to binary outcomes and odds.\n",
      "But before that let's understand this a bit better\n",
      "\n",
      "This function will need to have a value of 0 for the loss scores and 1 for the win scores.\n",
      "To make sense it will need to be 0 for some score and all scores below it and be 1 for some other score and all scores above it. And it will need to smoothly increase from 0 to 1 in the intermediate range.\n",
      "\n",
      "It will need to look something like this. [[ create custom plot with actual scores ]]\n",
      "\n",
      "<image src=\"files/images/standardSigmoidFunction.png\" />\n",
      "\n",
      "A function that has the above shape is\n",
      "\n",
      "$$P(X) = 1/(1 - exp(b0 + b1X))$$\n",
      "\n",
      "where P(X) is the probability of a score of X leading to a win.\n",
      "\n",
      "\n",
      "Notice that we have our familiar linear function but we plug it into a formula that has the shape we want.\n",
      "\n",
      "So how does this predict yes/no outcomes and why this function of all functions?\n",
      "\n",
      "First the how.\n",
      "From the shape we can see that that if the score was ... or P(X) would predict an almost sure loss, if score was ... an almost sure win. But in the middle things would be somewhat fuzzy - we would have say even odds when the score was around ....\n",
      "\n",
      "[[ link to detailed explanation ]]\n"
     ]
    },
    {
     "cell_type": "code",
     "collapsed": false,
     "input": [],
     "language": "python",
     "metadata": {},
     "outputs": []
    }
   ],
   "metadata": {}
  }
 ]
}