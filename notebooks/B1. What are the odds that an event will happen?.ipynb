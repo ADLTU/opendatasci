{
 "metadata": {
  "name": "B1. What are the odds that an event will happen?"
 },
 "nbformat": 3,
 "nbformat_minor": 0,
 "worksheets": [
  {
   "cells": [
    {
     "cell_type": "markdown",
     "metadata": {},
     "source": [
      "##Using Logistic Regression to predict Yes/No outcomes##\n",
      "\n",
      "\n",
      "Often we have to resolve questions with binary or Yes/No outcomes.\n",
      "\n",
      "\n",
      "For example:\n",
      "\n",
      "_Does a patient have cancer?_\n",
      "\n",
      "_Will a team win the next game?_\n",
      "\n",
      "_Will the customer buy my product?_\n",
      "\n",
      "_Will I get the loan?_\n",
      "\n",
      "\n",
      "\n"
     ]
    },
    {
     "cell_type": "markdown",
     "metadata": {},
     "source": [
      "##A familiar example\n",
      "\n",
      "We are going to start by plotting something we understand in the real world, although we may never actually have plotted it before.\n",
      "Let's say on the X axis is the number of goals scored by an NFL team over a season and say the outcome on the Y axis is whether they lost or won the game indicated by a value of 0 or 1 respectively.  \n",
      "\n",
      "Then a plot for these scores might look like this.\n",
      "\n",
      "\n",
      "<image src=\"files/images/NFLscores3.png\" />\n",
      "\n",
      "\n",
      "So how do we predict whether we have a win or a loss if we are given a score?  \n",
      "Clearly linear regression is not a good model.  Take a look at this.  \n",
      "\n",
      "[[ Add a linear plot to above data ]]  \n",
      "\n",
      "\n",
      "We need a better way to model our data.  "
     ]
    },
    {
     "cell_type": "markdown",
     "metadata": {},
     "source": [
      "We are going to do this in two steps.\n",
      "First we will just pull a function out of the data science bag of tricks and show that it works reasonably well.\n",
      "\n",
      "And then we are going to understand how we came up with that function and how it is related to binary outcomes and odds.\n",
      "But before that let's understand this a bit better\n",
      "\n",
      "This function will need to have a value of 0 for the loss scores and 1 for the win scores.\n",
      "To make sense it will need to be 0 for some score and all scores below it and be 1 for some other score and all scores above it. And it will need to smoothly increase from 0 to 1 in the intermediate range.\n",
      "\n",
      "It will need to look something like this. [[ create custom plot with actual scores ]]\n",
      "\n",
      "<image src=\"files/images/standardSigmoidFunction.png\" />\n",
      "\n",
      "A function that has the above shape is\n",
      "\n",
      "$$P(x) = \\frac{1}{1 - e^{b_0 + b_1*x}}$$\n",
      "\n",
      "where P(x) is the probability of a score of x leading to a win.  \n",
      "$b_0, b_1$ are parameters that we will estimate, so the curve fits our data.\n",
      "\n",
      "\n",
      "Notice that we have a familiar looking linear function but it's plugged into a formula that generates the shape we want.  \n",
      "\n",
      "So how does this formula predict Yes/No outcomes and why this function of all functions?  \n",
      "\n",
      "First the \"How\".  \n",
      "\n",
      "From the shape we can see that that if Score was less than 20 then P(x) would predict a loss, if Score was greater than 30, P(x) would predict a win. But in the middle things would be somewhat fuzzy - we would have even odds when the score was around 25.\n",
      "\n",
      "So this sort of function is what we use to model binary outcomes.\n",
      "\n",
      "Now about the \"Why\". So why this particular function and how did we derive it as a way to model binary outcomes?\n",
      "We'll delegate the details to another section, and it will be optional reading.\n",
      "\n",
      "We need to take a real data set and do some exploration with it.  Then we'll do some analysis, as before.\n",
      "\n",
      "[[ link to other notebook with detailed explanation ]]\n"
     ]
    },
    {
     "cell_type": "code",
     "collapsed": false,
     "input": [],
     "language": "python",
     "metadata": {},
     "outputs": []
    }
   ],
   "metadata": {}
  }
 ]
}