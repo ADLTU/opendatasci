{
 "metadata": {
  "name": "Z3. Sandbox - place to learn and test"
 },
 "nbformat": 3,
 "nbformat_minor": 0,
 "worksheets": [
  {
   "cells": [
    {
     "cell_type": "code",
     "collapsed": false,
     "input": [
      "from numpy import arange,array,ones#,random,linalg\n",
      "from pylab import plot,show\n",
      "from scipy import stats\n",
      "\n",
      "xi = arange(0,9)\n",
      "A = array([ xi, ones(9)])\n",
      "# linearly generated sequence\n",
      "y = [19, 20, 20.5, 21.5, 22, 23, 23, 25.5, 24]\n",
      "\n",
      "slope, intercept, r_value, p_value, std_err = stats.linregress(xi,y)\n",
      "\n",
      "print 'r value', r_value\n",
      "print  'p_value', p_value\n",
      "print 'standard deviation', std_err\n",
      "\n",
      "line = slope*xi+intercept\n",
      "plot(xi,line,'r-',xi,y,'o')\n",
      "show()"
     ],
     "language": "python",
     "metadata": {},
     "outputs": [
      {
       "output_type": "stream",
       "stream": "stdout",
       "text": [
        "r value 0.955949031197\n",
        "p_value 5.65761249232e-05\n",
        "standard deviation 0.0831744517144\n"
       ]
      },
      {
       "output_type": "display_data",
       "png": "[encoded data removed]"
      }
     ],
     "prompt_number": 2
    },
    {
     "cell_type": "code",
     "collapsed": false,
     "input": [
      "import numpy as np\n",
      "import statsmodels.api as sm\n",
      "Y = [1,3,4,5,2,3,4]\n",
      "X = range(1,8) #[:,np.newaxis]\n",
      "X = sm.add_constant(X)\n",
      "model = sm.OLS(Y,X)\n",
      "results = model.fit()\n",
      "print results.params\n",
      "results.tvalues\n",
      "print results.t_test([0,1])\n",
      "print results.f_test(np.identity(2))"
     ],
     "language": "python",
     "metadata": {},
     "outputs": [
      {
       "output_type": "stream",
       "stream": "stdout",
       "text": [
        "[ 0.25        2.14285714]\n",
        "<T test: effect=array([ 2.14285714]), sd=array([[ 1.14062282]]), t=array([[ 1.87867287]]), p=array([[ 0.05953974]]), df_denom=5>\n",
        "<F test: F=array([[ 19.46078431]]), p=[[ 0.00437251]], df_denom=5, df_num=2>\n"
       ]
      }
     ],
     "prompt_number": 36
    },
    {
     "cell_type": "code",
     "collapsed": false,
     "input": [
      ">>> from scipy import stats\n",
      ">>> x = [5.05, 6.75, 3.21, 2.66]\n",
      ">>> y = [1.65, 26.5, -5.93, 7.96]\n",
      ">>> gradient, intercept, r_value, p_value, std_err = stats.linregress(x,y)"
     ],
     "language": "python",
     "metadata": {},
     "outputs": [],
     "prompt_number": 37
    },
    {
     "cell_type": "code",
     "collapsed": false,
     "input": [
      "gradient"
     ],
     "language": "python",
     "metadata": {},
     "outputs": [
      {
       "output_type": "pyout",
       "prompt_number": 38,
       "text": [
        "5.3935773611970186"
       ]
      }
     ],
     "prompt_number": 38
    },
    {
     "cell_type": "code",
     "collapsed": false,
     "input": [
      "import pylab as pl\n",
      "import numpy as np\n",
      "from sklearn import datasets, linear_model\n",
      "\n",
      "# Load the diabetes dataset\n",
      "diabetes = datasets.load_diabetes()\n",
      "\n",
      "\n",
      "# Use only one feature\n",
      "diabetes_X = diabetes.data[:, np.newaxis]\n",
      "diabetes_X_temp = diabetes_X[:, :, 2]\n",
      "\n",
      "# Split the data into training/testing sets\n",
      "diabetes_X_train = diabetes_X_temp[:-20]\n",
      "diabetes_X_test = diabetes_X_temp[-20:]\n",
      "\n",
      "# Split the targets into training/testing sets\n",
      "diabetes_y_train = diabetes.target[:-20]\n",
      "diabetes_y_test = diabetes.target[-20:]\n",
      "\n",
      "# Create linear regression object\n",
      "regr = linear_model.LinearRegression()\n",
      "\n",
      "# Train the model using the training sets\n",
      "regr.fit(diabetes_X_train, diabetes_y_train)\n",
      "\n",
      "# The coefficients\n",
      "print 'Coefficients: \\n', regr.coef_\n",
      "# The mean square error\n",
      "print (\"Residual sum of squares: %.2f\" %\n",
      "       np.mean((regr.predict(diabetes_X_test) - diabetes_y_test) ** 2))\n",
      "# Explained variance score: 1 is perfect prediction\n",
      "print ('Variance score: %.2f' % regr.score(diabetes_X_test, diabetes_y_test))\n",
      "\n",
      "# Plot outputs\n",
      "pl.scatter(diabetes_X_test, diabetes_y_test,  color='black')\n",
      "pl.plot(diabetes_X_test, regr.predict(diabetes_X_test), color='blue',\n",
      "        linewidth=3)\n",
      "\n",
      "pl.xticks(())\n",
      "pl.yticks(())\n",
      "\n",
      "pl.show()"
     ],
     "language": "python",
     "metadata": {},
     "outputs": [
      {
       "output_type": "stream",
       "stream": "stdout",
       "text": [
        "Coefficients: \n",
        "[ 938.23786125]\n",
        "Residual sum of squares: 2548.07\n",
        "Variance score: 0.47\n"
       ]
      },
      {
       "output_type": "display_data",
       "png": "[encoded data removed]"
      }
     ],
     "prompt_number": 39
    },
    {
     "cell_type": "code",
     "collapsed": false,
     "input": [
      "import matplotlib.pyplot as plt #1\n",
      "figsize = (8, 5) #2 \n",
      "fig = plt.figure(figsize=figsize) #3 \n",
      "ax = fig.add_subplot(111) #4 \n",
      "line = ax.plot(range(10))[0] #5 \n",
      "ax.set_title('Plotted with OO interface') #6 \n",
      "ax.set_xlabel('measured') \n",
      "ax.set_ylabel('calculated')\n",
      "#ax.set_ylim((-0.1,1.1))\n",
      "ax.grid(True) #7 \n",
      "line.set_marker('o')\n",
      "plt.savefig('oo.png',dpi=150)\n",
      "plt.show()"
     ],
     "language": "python",
     "metadata": {},
     "outputs": [
      {
       "output_type": "display_data",
       "png": "[encoded data removed]"
      }
     ],
     "prompt_number": 40
    },
    {
     "cell_type": "code",
     "collapsed": false,
     "input": [
      "import pandas as pd\n",
      "dfr = pd.read_csv('../datasets/loanf.csv')"
     ],
     "language": "python",
     "metadata": {},
     "outputs": [],
     "prompt_number": 41
    },
    {
     "cell_type": "code",
     "collapsed": false,
     "input": [
      "dfr.head()\n"
     ],
     "language": "python",
     "metadata": {},
     "outputs": [
      {
       "html": [
        "<div style=\"max-height:1000px;max-width:1500px;overflow:auto;\">\n",
        "<table border=\"1\" class=\"dataframe\">\n",
        "  <thead>\n",
        "    <tr style=\"text-align: right;\">\n",
        "      <th></th>\n",
        "      <th>InterestRate</th>\n",
        "      <th>FICOScore</th>\n",
        "      <th>LoanLength</th>\n",
        "      <th>MonthlyIncome</th>\n",
        "      <th>LoanAmount</th>\n",
        "    </tr>\n",
        "  </thead>\n",
        "  <tbody>\n",
        "    <tr>\n",
        "      <th>6 </th>\n",
        "      <td> 15.31</td>\n",
        "      <td> 670</td>\n",
        "      <td> 36</td>\n",
        "      <td>  4891.67</td>\n",
        "      <td>  6000</td>\n",
        "    </tr>\n",
        "    <tr>\n",
        "      <th>11</th>\n",
        "      <td> 19.72</td>\n",
        "      <td> 670</td>\n",
        "      <td> 36</td>\n",
        "      <td>  3575.00</td>\n",
        "      <td>  2000</td>\n",
        "    </tr>\n",
        "    <tr>\n",
        "      <th>12</th>\n",
        "      <td> 14.27</td>\n",
        "      <td> 665</td>\n",
        "      <td> 36</td>\n",
        "      <td>  4250.00</td>\n",
        "      <td> 10625</td>\n",
        "    </tr>\n",
        "    <tr>\n",
        "      <th>13</th>\n",
        "      <td> 21.67</td>\n",
        "      <td> 670</td>\n",
        "      <td> 60</td>\n",
        "      <td> 14166.67</td>\n",
        "      <td> 28000</td>\n",
        "    </tr>\n",
        "    <tr>\n",
        "      <th>21</th>\n",
        "      <td> 21.98</td>\n",
        "      <td> 665</td>\n",
        "      <td> 36</td>\n",
        "      <td>  6666.67</td>\n",
        "      <td> 22000</td>\n",
        "    </tr>\n",
        "  </tbody>\n",
        "</table>\n",
        "</div>"
       ],
       "output_type": "pyout",
       "prompt_number": 51,
       "text": [
        "    InterestRate  FICOScore  LoanLength  MonthlyIncome  LoanAmount\n",
        "6          15.31        670          36        4891.67        6000\n",
        "11         19.72        670          36        3575.00        2000\n",
        "12         14.27        665          36        4250.00       10625\n",
        "13         21.67        670          60       14166.67       28000\n",
        "21         21.98        665          36        6666.67       22000"
       ]
      }
     ],
     "prompt_number": 51
    },
    {
     "cell_type": "code",
     "collapsed": false,
     "input": [
      "dfr\n"
     ],
     "language": "python",
     "metadata": {},
     "outputs": [
      {
       "html": [
        "<pre>\n",
        "&ltclass 'pandas.core.frame.DataFrame'&gt\n",
        "Int64Index: 2500 entries, 6 to 2497\n",
        "Data columns (total 5 columns):\n",
        "InterestRate     2500  non-null values\n",
        "FICOScore        2500  non-null values\n",
        "LoanLength       2500  non-null values\n",
        "MonthlyIncome    2499  non-null values\n",
        "LoanAmount       2500  non-null values\n",
        "dtypes: float64(2), int64(3)\n",
        "</pre>"
       ],
       "output_type": "pyout",
       "prompt_number": 53,
       "text": [
        "<class 'pandas.core.frame.DataFrame'>\n",
        "Int64Index: 2500 entries, 6 to 2497\n",
        "Data columns (total 5 columns):\n",
        "InterestRate     2500  non-null values\n",
        "FICOScore        2500  non-null values\n",
        "LoanLength       2500  non-null values\n",
        "MonthlyIncome    2499  non-null values\n",
        "LoanAmount       2500  non-null values\n",
        "dtypes: float64(2), int64(3)"
       ]
      }
     ],
     "prompt_number": 53
    },
    {
     "cell_type": "code",
     "collapsed": false,
     "input": [
      "dfr[dfr.InterestRate>12]\n"
     ],
     "language": "python",
     "metadata": {},
     "outputs": [
      {
       "html": [
        "<pre>\n",
        "&ltclass 'pandas.core.frame.DataFrame'&gt\n",
        "Int64Index: 1508 entries, 6 to 2497\n",
        "Data columns (total 5 columns):\n",
        "InterestRate     1508  non-null values\n",
        "FICOScore        1508  non-null values\n",
        "LoanLength       1508  non-null values\n",
        "MonthlyIncome    1508  non-null values\n",
        "LoanAmount       1508  non-null values\n",
        "dtypes: float64(2), int64(3)\n",
        "</pre>"
       ],
       "output_type": "pyout",
       "prompt_number": 54,
       "text": [
        "<class 'pandas.core.frame.DataFrame'>\n",
        "Int64Index: 1508 entries, 6 to 2497\n",
        "Data columns (total 5 columns):\n",
        "InterestRate     1508  non-null values\n",
        "FICOScore        1508  non-null values\n",
        "LoanLength       1508  non-null values\n",
        "MonthlyIncome    1508  non-null values\n",
        "LoanAmount       1508  non-null values\n",
        "dtypes: float64(2), int64(3)"
       ]
      }
     ],
     "prompt_number": 54
    },
    {
     "cell_type": "code",
     "collapsed": false,
     "input": [
      "df1=dfr.copy()"
     ],
     "language": "python",
     "metadata": {},
     "outputs": [],
     "prompt_number": 55
    },
    {
     "cell_type": "code",
     "collapsed": false,
     "input": [
      "df1\n"
     ],
     "language": "python",
     "metadata": {},
     "outputs": [
      {
       "html": [
        "<pre>\n",
        "&ltclass 'pandas.core.frame.DataFrame'&gt\n",
        "Int64Index: 2500 entries, 6 to 2497\n",
        "Data columns (total 5 columns):\n",
        "InterestRate     2500  non-null values\n",
        "FICOScore        2500  non-null values\n",
        "LoanLength       2500  non-null values\n",
        "MonthlyIncome    2499  non-null values\n",
        "LoanAmount       2500  non-null values\n",
        "dtypes: float64(2), int64(3)\n",
        "</pre>"
       ],
       "output_type": "pyout",
       "prompt_number": 56,
       "text": [
        "<class 'pandas.core.frame.DataFrame'>\n",
        "Int64Index: 2500 entries, 6 to 2497\n",
        "Data columns (total 5 columns):\n",
        "InterestRate     2500  non-null values\n",
        "FICOScore        2500  non-null values\n",
        "LoanLength       2500  non-null values\n",
        "MonthlyIncome    2499  non-null values\n",
        "LoanAmount       2500  non-null values\n",
        "dtypes: float64(2), int64(3)"
       ]
      }
     ],
     "prompt_number": 56
    },
    {
     "cell_type": "code",
     "collapsed": false,
     "input": [
      "dfr['YN']=dfr.InterestRate<=12"
     ],
     "language": "python",
     "metadata": {},
     "outputs": [],
     "prompt_number": 62
    },
    {
     "cell_type": "code",
     "collapsed": false,
     "input": [
      "dfr['YN']"
     ],
     "language": "python",
     "metadata": {},
     "outputs": [
      {
       "output_type": "pyout",
       "prompt_number": 63,
       "text": [
        "6     False\n",
        "11    False\n",
        "12    False\n",
        "13    False\n",
        "21    False\n",
        "23    False\n",
        "25    False\n",
        "40    False\n",
        "41    False\n",
        "43    False\n",
        "44    False\n",
        "48    False\n",
        "52    False\n",
        "54    False\n",
        "57    False\n",
        "...\n",
        "2413     True\n",
        "2422     True\n",
        "2429    False\n",
        "2438     True\n",
        "2445     True\n",
        "2447     True\n",
        "2453     True\n",
        "2454     True\n",
        "2466     True\n",
        "2470     True\n",
        "2472     True\n",
        "2481     True\n",
        "2482     True\n",
        "2486     True\n",
        "2497    False\n",
        "Name: YN, Length: 2500, dtype: bool"
       ]
      }
     ],
     "prompt_number": 63
    },
    {
     "cell_type": "code",
     "collapsed": false,
     "input": [
      "dfr"
     ],
     "language": "python",
     "metadata": {},
     "outputs": [
      {
       "html": [
        "<pre>\n",
        "&ltclass 'pandas.core.frame.DataFrame'&gt\n",
        "Int64Index: 2500 entries, 6 to 2497\n",
        "Data columns (total 6 columns):\n",
        "InterestRate     2500  non-null values\n",
        "FICOScore        2500  non-null values\n",
        "LoanLength       2500  non-null values\n",
        "MonthlyIncome    2499  non-null values\n",
        "LoanAmount       2500  non-null values\n",
        "YN               2500  non-null values\n",
        "dtypes: bool(1), float64(2), int64(3)\n",
        "</pre>"
       ],
       "output_type": "pyout",
       "prompt_number": 59,
       "text": [
        "<class 'pandas.core.frame.DataFrame'>\n",
        "Int64Index: 2500 entries, 6 to 2497\n",
        "Data columns (total 6 columns):\n",
        "InterestRate     2500  non-null values\n",
        "FICOScore        2500  non-null values\n",
        "LoanLength       2500  non-null values\n",
        "MonthlyIncome    2499  non-null values\n",
        "LoanAmount       2500  non-null values\n",
        "YN               2500  non-null values\n",
        "dtypes: bool(1), float64(2), int64(3)"
       ]
      }
     ],
     "prompt_number": 59
    },
    {
     "cell_type": "code",
     "collapsed": false,
     "input": [
      "dfr['intercept']=1.0"
     ],
     "language": "python",
     "metadata": {},
     "outputs": [],
     "prompt_number": 64
    },
    {
     "cell_type": "code",
     "collapsed": false,
     "input": [
      "dfr.intercept"
     ],
     "language": "python",
     "metadata": {},
     "outputs": [
      {
       "output_type": "pyout",
       "prompt_number": 83,
       "text": [
        "6     1\n",
        "11    1\n",
        "12    1\n",
        "13    1\n",
        "21    1\n",
        "23    1\n",
        "25    1\n",
        "40    1\n",
        "41    1\n",
        "43    1\n",
        "44    1\n",
        "48    1\n",
        "52    1\n",
        "54    1\n",
        "57    1\n",
        "...\n",
        "2413    1\n",
        "2422    1\n",
        "2429    1\n",
        "2438    1\n",
        "2445    1\n",
        "2447    1\n",
        "2453    1\n",
        "2454    1\n",
        "2466    1\n",
        "2470    1\n",
        "2472    1\n",
        "2481    1\n",
        "2482    1\n",
        "2486    1\n",
        "2497    1\n",
        "Name: intercept, Length: 2500, dtype: float64"
       ]
      }
     ],
     "prompt_number": 83
    },
    {
     "cell_type": "code",
     "collapsed": false,
     "input": [
      "train_cols=['FICOScore','LoanAmount','intercept']\n",
      "dfr[train_cols].columns\n"
     ],
     "language": "python",
     "metadata": {},
     "outputs": [
      {
       "output_type": "pyout",
       "prompt_number": 85,
       "text": [
        "Index([FICOScore, LoanAmount, intercept], dtype=object)"
       ]
      }
     ],
     "prompt_number": 85
    },
    {
     "cell_type": "code",
     "collapsed": false,
     "input": [
      "logit = sm.Logit(dfr['YN'], dfr[train_cols])\n",
      "result=logit.fit()"
     ],
     "language": "python",
     "metadata": {},
     "outputs": [
      {
       "output_type": "stream",
       "stream": "stdout",
       "text": [
        "Optimization terminated successfully.\n",
        "         Current function value: 798.758166\n",
        "         Iterations 8\n"
       ]
      }
     ],
     "prompt_number": 103
    },
    {
     "cell_type": "code",
     "collapsed": false,
     "input": [
      "print result.cov_params()"
     ],
     "language": "python",
     "metadata": {},
     "outputs": [
      {
       "output_type": "stream",
       "stream": "stdout",
       "text": [
        "               FICOScore    LoanAmount  intercept\n",
        "FICOScore   1.244717e-05 -2.234657e-08  -0.008529\n",
        "LoanAmount -2.234657e-08  1.210946e-10   0.000014\n",
        "intercept  -8.528910e-03  1.438869e-05   5.858641\n"
       ]
      }
     ],
     "prompt_number": 105
    },
    {
     "cell_type": "code",
     "collapsed": false,
     "input": [
      "print result.pred_table()"
     ],
     "language": "python",
     "metadata": {},
     "outputs": [
      {
       "output_type": "stream",
       "stream": "stdout",
       "text": [
        "[[ 1376.   132.]\n",
        " [  193.   799.]]\n"
       ]
      }
     ],
     "prompt_number": 109
    },
    {
     "cell_type": "code",
     "collapsed": false,
     "input": [
      "result.params"
     ],
     "language": "python",
     "metadata": {},
     "outputs": [
      {
       "output_type": "pyout",
       "prompt_number": 120,
       "text": [
        "FICOScore      0.087423\n",
        "LoanAmount    -0.000174\n",
        "intercept    -60.125045\n",
        "dtype: float64"
       ]
      }
     ],
     "prompt_number": 120
    },
    {
     "cell_type": "code",
     "collapsed": false,
     "input": [
      "np.exp(result.params)"
     ],
     "language": "python",
     "metadata": {},
     "outputs": [
      {
       "output_type": "pyout",
       "prompt_number": 115,
       "text": [
        "FICOScore     1.091358e+00\n",
        "LoanAmount    9.998260e-01\n",
        "intercept     7.727244e-27\n",
        "dtype: float64"
       ]
      }
     ],
     "prompt_number": 115
    },
    {
     "cell_type": "code",
     "collapsed": false,
     "input": [
      "result.params[0]"
     ],
     "language": "python",
     "metadata": {},
     "outputs": [
      {
       "output_type": "pyout",
       "prompt_number": 119,
       "text": [
        "0.087423215655134015"
       ]
      }
     ],
     "prompt_number": 119
    },
    {
     "cell_type": "code",
     "collapsed": false,
     "input": [
      "print np.exp(result.params)"
     ],
     "language": "python",
     "metadata": {},
     "outputs": [
      {
       "output_type": "stream",
       "stream": "stdout",
       "text": [
        "FICOScore     1.091358e+00\n",
        "LoanAmount    9.998260e-01\n",
        "intercept     7.727244e-27\n",
        "dtype: float64\n"
       ]
      }
     ],
     "prompt_number": 102
    },
    {
     "cell_type": "code",
     "collapsed": false,
     "input": [],
     "language": "python",
     "metadata": {},
     "outputs": [],
     "prompt_number": 89
    },
    {
     "cell_type": "code",
     "collapsed": false,
     "input": [
      "type(results)\n"
     ],
     "language": "python",
     "metadata": {},
     "outputs": [
      {
       "output_type": "pyout",
       "prompt_number": 95,
       "text": [
        "statsmodels.regression.linear_model.RegressionResultsWrapper"
       ]
      }
     ],
     "prompt_number": 95
    },
    {
     "cell_type": "code",
     "collapsed": false,
     "input": [
      "def fz(fico,amt,coeff):\n",
      "  z = coeff[0]+coeff[1]*fico+coeff[2]*amt\n",
      "  return 1/(1+exp(-1*z))\n"
     ],
     "language": "python",
     "metadata": {},
     "outputs": [],
     "prompt_number": 96
    },
    {
     "cell_type": "code",
     "collapsed": false,
     "input": [
      "coeff=[-60.125,0.0874,-0.0002]"
     ],
     "language": "python",
     "metadata": {},
     "outputs": [],
     "prompt_number": 98
    },
    {
     "cell_type": "code",
     "collapsed": false,
     "input": [
      "fz(720,10000,coeff)"
     ],
     "language": "python",
     "metadata": {},
     "outputs": [
      {
       "output_type": "pyout",
       "prompt_number": 99,
       "text": [
        "0.69061584420829658"
       ]
      }
     ],
     "prompt_number": 99
    },
    {
     "cell_type": "code",
     "collapsed": false,
     "input": [
      "print(\"Trying multiple FICO Loan Amount combinations: \")\n",
      "print('----')\n",
      "print(\"fico=720, amt=10,000\")\n",
      "print(fz(720,10000,coeff))\n",
      "print(\"fico=720, amt=20,000\")\n",
      "print(fz(720,20000,coeff))\n",
      "print(\"fico=720, amt=30,000\")\n",
      "print(fz(720,30000,coeff))\n",
      "print(\"fico=820, amt=10,000\")\n",
      "print(fz(820,10000,coeff))\n",
      "print(\"fico=820, amt=20,000\")\n",
      "print(fz(820,20000,coeff))\n",
      "print(\"fico=820, amt=30,000\")\n",
      "print(fz(820,30000,coeff))"
     ],
     "language": "python",
     "metadata": {},
     "outputs": [
      {
       "output_type": "stream",
       "stream": "stdout",
       "text": [
        "Trying multiple FICO Loan Amount combinations: \n",
        "----\n",
        "fico=720, amt=10,000\n",
        "0.690615844208\n",
        "fico=720, amt=20,000\n",
        "0.23200932969\n",
        "fico=720, amt=30,000\n",
        "0.0392787743129\n",
        "fico=820, amt=10,000\n",
        "0.99992830372\n",
        "fico=820, amt=20,000\n",
        "0.999470474728\n",
        "fico=820, amt=30,000\n",
        "0.996100500713\n"
       ]
      }
     ],
     "prompt_number": 101
    },
    {
     "cell_type": "code",
     "collapsed": false,
     "input": [
      "from scipy.cluster.vq import kmeans,vq\n",
      "from scipy.spatial.distance import cdist"
     ],
     "language": "python",
     "metadata": {},
     "outputs": [],
     "prompt_number": 121
    },
    {
     "cell_type": "code",
     "collapsed": false,
     "input": [
      "dir(cdist)\n"
     ],
     "language": "python",
     "metadata": {},
     "outputs": [
      {
       "output_type": "pyout",
       "prompt_number": 122,
       "text": [
        "['__call__',\n",
        " '__class__',\n",
        " '__closure__',\n",
        " '__code__',\n",
        " '__defaults__',\n",
        " '__delattr__',\n",
        " '__dict__',\n",
        " '__doc__',\n",
        " '__format__',\n",
        " '__get__',\n",
        " '__getattribute__',\n",
        " '__globals__',\n",
        " '__hash__',\n",
        " '__init__',\n",
        " '__module__',\n",
        " '__name__',\n",
        " '__new__',\n",
        " '__reduce__',\n",
        " '__reduce_ex__',\n",
        " '__repr__',\n",
        " '__setattr__',\n",
        " '__sizeof__',\n",
        " '__str__',\n",
        " '__subclasshook__',\n",
        " 'func_closure',\n",
        " 'func_code',\n",
        " 'func_defaults',\n",
        " 'func_dict',\n",
        " 'func_doc',\n",
        " 'func_globals',\n",
        " 'func_name']"
       ]
      }
     ],
     "prompt_number": 122
    },
    {
     "cell_type": "code",
     "collapsed": false,
     "input": [
      "help(cdist)\n"
     ],
     "language": "python",
     "metadata": {},
     "outputs": [
      {
       "output_type": "stream",
       "stream": "stdout",
       "text": [
        "Help on function cdist in module scipy.spatial.distance:\n",
        "\n",
        "cdist(XA, XB, metric='euclidean', p=2, V=None, VI=None, w=None)\n",
        "    Computes distance between each pair of the two collections of inputs.\n",
        "    \n",
        "    The following are common calling conventions:\n",
        "    \n",
        "    1. ``Y = cdist(XA, XB, 'euclidean')``\n",
        "    \n",
        "       Computes the distance between :math:`m` points using\n",
        "       Euclidean distance (2-norm) as the distance metric between the\n",
        "       points. The points are arranged as :math:`m`\n",
        "       :math:`n`-dimensional row vectors in the matrix X.\n",
        "    \n",
        "    2. ``Y = cdist(XA, XB, 'minkowski', p)``\n",
        "    \n",
        "       Computes the distances using the Minkowski distance\n",
        "       :math:`||u-v||_p` (:math:`p`-norm) where :math:`p \\geq 1`.\n",
        "    \n",
        "    3. ``Y = cdist(XA, XB, 'cityblock')``\n",
        "    \n",
        "       Computes the city block or Manhattan distance between the\n",
        "       points.\n",
        "    \n",
        "    4. ``Y = cdist(XA, XB, 'seuclidean', V=None)``\n",
        "    \n",
        "       Computes the standardized Euclidean distance. The standardized\n",
        "       Euclidean distance between two n-vectors ``u`` and ``v`` is\n",
        "    \n",
        "       .. math::\n",
        "    \n",
        "          \\sqrt{\\sum {(u_i-v_i)^2 / V[x_i]}}.\n",
        "    \n",
        "       V is the variance vector; V[i] is the variance computed over all\n",
        "       the i'th components of the points. If not passed, it is\n",
        "       automatically computed.\n",
        "    \n",
        "    5. ``Y = cdist(XA, XB, 'sqeuclidean')``\n",
        "    \n",
        "       Computes the squared Euclidean distance :math:`||u-v||_2^2` between\n",
        "       the vectors.\n",
        "    \n",
        "    6. ``Y = cdist(XA, XB, 'cosine')``\n",
        "    \n",
        "       Computes the cosine distance between vectors u and v,\n",
        "    \n",
        "       .. math::\n",
        "    \n",
        "          1 - \\frac{u \\cdot v}\n",
        "                   {{||u||}_2 {||v||}_2}\n",
        "    \n",
        "       where :math:`||*||_2` is the 2-norm of its argument ``*``, and\n",
        "       :math:`u \\cdot v` is the dot product of :math:`u` and :math:`v`.\n",
        "    \n",
        "    7. ``Y = cdist(XA, XB, 'correlation')``\n",
        "    \n",
        "       Computes the correlation distance between vectors u and v. This is\n",
        "    \n",
        "       .. math::\n",
        "    \n",
        "          1 - \\frac{(u - \\bar{u}) \\cdot (v - \\bar{v})}\n",
        "                   {{||(u - \\bar{u})||}_2 {||(v - \\bar{v})||}_2}\n",
        "    \n",
        "       where :math:`\\bar{v}` is the mean of the elements of vector v,\n",
        "       and :math:`x \\cdot y` is the dot product of :math:`x` and :math:`y`.\n",
        "    \n",
        "    \n",
        "    8. ``Y = cdist(XA, XB, 'hamming')``\n",
        "    \n",
        "       Computes the normalized Hamming distance, or the proportion of\n",
        "       those vector elements between two n-vectors ``u`` and ``v``\n",
        "       which disagree. To save memory, the matrix ``X`` can be of type\n",
        "       boolean.\n",
        "    \n",
        "    9. ``Y = cdist(XA, XB, 'jaccard')``\n",
        "    \n",
        "       Computes the Jaccard distance between the points. Given two\n",
        "       vectors, ``u`` and ``v``, the Jaccard distance is the\n",
        "       proportion of those elements ``u[i]`` and ``v[i]`` that\n",
        "       disagree where at least one of them is non-zero.\n",
        "    \n",
        "    10. ``Y = cdist(XA, XB, 'chebyshev')``\n",
        "    \n",
        "       Computes the Chebyshev distance between the points. The\n",
        "       Chebyshev distance between two n-vectors ``u`` and ``v`` is the\n",
        "       maximum norm-1 distance between their respective elements. More\n",
        "       precisely, the distance is given by\n",
        "    \n",
        "       .. math::\n",
        "    \n",
        "          d(u,v) = \\max_i {|u_i-v_i|}.\n",
        "    \n",
        "    11. ``Y = cdist(XA, XB, 'canberra')``\n",
        "    \n",
        "       Computes the Canberra distance between the points. The\n",
        "       Canberra distance between two points ``u`` and ``v`` is\n",
        "    \n",
        "       .. math::\n",
        "    \n",
        "         d(u,v) = \\sum_i \\frac{|u_i-v_i|}\n",
        "                              {|u_i|+|v_i|}.\n",
        "    \n",
        "    12. ``Y = cdist(XA, XB, 'braycurtis')``\n",
        "    \n",
        "       Computes the Bray-Curtis distance between the points. The\n",
        "       Bray-Curtis distance between two points ``u`` and ``v`` is\n",
        "    \n",
        "    \n",
        "       .. math::\n",
        "    \n",
        "            d(u,v) = \\frac{\\sum_i (u_i-v_i)}\n",
        "                          {\\sum_i (u_i+v_i)}\n",
        "    \n",
        "    13. ``Y = cdist(XA, XB, 'mahalanobis', VI=None)``\n",
        "    \n",
        "       Computes the Mahalanobis distance between the points. The\n",
        "       Mahalanobis distance between two points ``u`` and ``v`` is\n",
        "       :math:`(u-v)(1/V)(u-v)^T` where :math:`(1/V)` (the ``VI``\n",
        "       variable) is the inverse covariance. If ``VI`` is not None,\n",
        "       ``VI`` will be used as the inverse covariance matrix.\n",
        "    \n",
        "    14. ``Y = cdist(XA, XB, 'yule')``\n",
        "    \n",
        "       Computes the Yule distance between the boolean\n",
        "       vectors. (see yule function documentation)\n",
        "    \n",
        "    15. ``Y = cdist(XA, XB, 'matching')``\n",
        "    \n",
        "       Computes the matching distance between the boolean\n",
        "       vectors. (see matching function documentation)\n",
        "    \n",
        "    16. ``Y = cdist(XA, XB, 'dice')``\n",
        "    \n",
        "       Computes the Dice distance between the boolean vectors. (see\n",
        "       dice function documentation)\n",
        "    \n",
        "    17. ``Y = cdist(XA, XB, 'kulsinski')``\n",
        "    \n",
        "       Computes the Kulsinski distance between the boolean\n",
        "       vectors. (see kulsinski function documentation)\n",
        "    \n",
        "    18. ``Y = cdist(XA, XB, 'rogerstanimoto')``\n",
        "    \n",
        "       Computes the Rogers-Tanimoto distance between the boolean\n",
        "       vectors. (see rogerstanimoto function documentation)\n",
        "    \n",
        "    19. ``Y = cdist(XA, XB, 'russellrao')``\n",
        "    \n",
        "       Computes the Russell-Rao distance between the boolean\n",
        "       vectors. (see russellrao function documentation)\n",
        "    \n",
        "    20. ``Y = cdist(XA, XB, 'sokalmichener')``\n",
        "    \n",
        "       Computes the Sokal-Michener distance between the boolean\n",
        "       vectors. (see sokalmichener function documentation)\n",
        "    \n",
        "    21. ``Y = cdist(XA, XB, 'sokalsneath')``\n",
        "    \n",
        "       Computes the Sokal-Sneath distance between the vectors. (see\n",
        "       sokalsneath function documentation)\n",
        "    \n",
        "    \n",
        "    22. ``Y = cdist(XA, XB, 'wminkowski')``\n",
        "    \n",
        "       Computes the weighted Minkowski distance between the\n",
        "       vectors. (see sokalsneath function documentation)\n",
        "    \n",
        "    23. ``Y = cdist(XA, XB, f)``\n",
        "    \n",
        "       Computes the distance between all pairs of vectors in X\n",
        "       using the user supplied 2-arity function f. For example,\n",
        "       Euclidean distance between the vectors could be computed\n",
        "       as follows::\n",
        "    \n",
        "         dm = cdist(XA, XB, lambda u, v: np.sqrt(((u-v)**2).sum()))\n",
        "    \n",
        "       Note that you should avoid passing a reference to one of\n",
        "       the distance functions defined in this library. For example,::\n",
        "    \n",
        "         dm = cdist(XA, XB, sokalsneath)\n",
        "    \n",
        "       would calculate the pair-wise distances between the vectors in\n",
        "       X using the Python function sokalsneath. This would result in\n",
        "       sokalsneath being called :math:`{n \\choose 2}` times, which\n",
        "       is inefficient. Instead, the optimized C version is more\n",
        "       efficient, and we call it using the following syntax.::\n",
        "    \n",
        "         dm = cdist(XA, XB, 'sokalsneath')\n",
        "    \n",
        "    Parameters\n",
        "    ----------\n",
        "    XA : ndarray\n",
        "        An :math:`m_A` by :math:`n` array of :math:`m_A`\n",
        "        original observations in an :math:`n`-dimensional space.\n",
        "    XB : ndarray\n",
        "        An :math:`m_B` by :math:`n` array of :math:`m_B`\n",
        "        original observations in an :math:`n`-dimensional space.\n",
        "    metric : string or function\n",
        "        The distance metric to use. The distance function can\n",
        "        be 'braycurtis', 'canberra', 'chebyshev', 'cityblock',\n",
        "        'correlation', 'cosine', 'dice', 'euclidean', 'hamming',\n",
        "        'jaccard', 'kulsinski', 'mahalanobis', 'matching',\n",
        "        'minkowski', 'rogerstanimoto', 'russellrao', 'seuclidean',\n",
        "        'sokalmichener', 'sokalsneath', 'sqeuclidean', 'wminkowski',\n",
        "        'yule'.\n",
        "    w : ndarray\n",
        "        The weight vector (for weighted Minkowski).\n",
        "    p : double\n",
        "        The p-norm to apply (for Minkowski, weighted and unweighted)\n",
        "    V : ndarray\n",
        "        The variance vector (for standardized Euclidean).\n",
        "    VI : ndarray\n",
        "        The inverse of the covariance matrix (for Mahalanobis).\n",
        "    \n",
        "    Returns\n",
        "    -------\n",
        "    Y : ndarray\n",
        "        A :math:`m_A` by :math:`m_B` distance matrix is returned.\n",
        "        For each :math:`i` and :math:`j`, the metric\n",
        "        ``dist(u=XA[i], v=XB[j])`` is computed and stored in the\n",
        "        :math:`ij` th entry.\n",
        "    \n",
        "    Raises\n",
        "    ------\n",
        "    An exception is thrown if ``XA`` and ``XB`` do not have\n",
        "    the same number of columns.\n",
        "\n"
       ]
      }
     ],
     "prompt_number": 123
    },
    {
     "cell_type": "code",
     "collapsed": false,
     "input": [
      "\n",
      "# Import the random forest package\n",
      "#From sklearn.ensemble import RandomForestClassifier \n",
      "\n",
      "# Create the random forest object which will include all the parameters\n",
      "# for the fit\n",
      "#Forest = RandomForestClassifier(n_estimators = 100)\n",
      "\n",
      "# Fit the training data to the training output and create the decision\n",
      "# trees\n",
      "#Forest = Forest.fit(train_data[0::,1::],train_data[0::,0])\n",
      "\n",
      "# Take the same decision trees and run on the test data\n",
      "#Output = Forest.predict(test_data)\n"
     ],
     "language": "python",
     "metadata": {},
     "outputs": [],
     "prompt_number": 126
    },
    {
     "cell_type": "code",
     "collapsed": false,
     "input": [
      "import pandas as pd\n",
      "samtest = pd.read_csv('../datasets/samsung/samtest.csv')"
     ],
     "language": "python",
     "metadata": {},
     "outputs": [],
     "prompt_number": 145
    },
    {
     "cell_type": "code",
     "collapsed": false,
     "input": [
      "s = samtest['activity']"
     ],
     "language": "python",
     "metadata": {},
     "outputs": [],
     "prompt_number": 128
    },
    {
     "cell_type": "code",
     "collapsed": false,
     "input": [
      "s\n"
     ],
     "language": "python",
     "metadata": {},
     "outputs": [
      {
       "output_type": "pyout",
       "prompt_number": 129,
       "text": [
        "0     standing\n",
        "1     standing\n",
        "2     standing\n",
        "3     standing\n",
        "4     standing\n",
        "5     standing\n",
        "6     standing\n",
        "7     standing\n",
        "8     standing\n",
        "9     standing\n",
        "10    standing\n",
        "11    standing\n",
        "12    standing\n",
        "13    standing\n",
        "14    standing\n",
        "...\n",
        "1470    walkup\n",
        "1471    walkup\n",
        "1472    walkup\n",
        "1473    walkup\n",
        "1474    walkup\n",
        "1475    walkup\n",
        "1476    walkup\n",
        "1477    walkup\n",
        "1478    walkup\n",
        "1479    walkup\n",
        "1480    walkup\n",
        "1481    walkup\n",
        "1482    walkup\n",
        "1483    walkup\n",
        "1484    walkup\n",
        "Name: activity, Length: 1485, dtype: object"
       ]
      }
     ],
     "prompt_number": 129
    },
    {
     "cell_type": "code",
     "collapsed": false,
     "input": [
      "map_dict = {'laying':1, 'sitting':2, 'standing':3, 'walk':4, 'walkup':5, 'walkdown':6} \n",
      "samtest['activity'] = samtest['activity'].map(lambda x: map_dict[x]) "
     ],
     "language": "python",
     "metadata": {},
     "outputs": [],
     "prompt_number": 136
    },
    {
     "cell_type": "code",
     "collapsed": false,
     "input": [
      "s.head()"
     ],
     "language": "python",
     "metadata": {},
     "outputs": [
      {
       "output_type": "pyout",
       "prompt_number": 137,
       "text": [
        "0    3\n",
        "1    3\n",
        "2    3\n",
        "3    3\n",
        "4    3\n",
        "Name: activity, dtype: int64"
       ]
      }
     ],
     "prompt_number": 137
    },
    {
     "cell_type": "code",
     "collapsed": false,
     "input": [
      "samtest['activity'] = samtest['activity'].map(lambda x: map_dict[x]) \n",
      "samtest['activity']"
     ],
     "language": "python",
     "metadata": {},
     "outputs": [
      {
       "output_type": "pyout",
       "prompt_number": 141,
       "text": [
        "0     3\n",
        "1     3\n",
        "2     3\n",
        "3     3\n",
        "4     3\n",
        "5     3\n",
        "6     3\n",
        "7     3\n",
        "8     3\n",
        "9     3\n",
        "10    3\n",
        "11    3\n",
        "12    3\n",
        "13    3\n",
        "14    3\n",
        "...\n",
        "1470    5\n",
        "1471    5\n",
        "1472    5\n",
        "1473    5\n",
        "1474    5\n",
        "1475    5\n",
        "1476    5\n",
        "1477    5\n",
        "1478    5\n",
        "1479    5\n",
        "1480    5\n",
        "1481    5\n",
        "1482    5\n",
        "1483    5\n",
        "1484    5\n",
        "Name: activity, Length: 1485, dtype: int64"
       ]
      }
     ],
     "prompt_number": 141
    },
    {
     "cell_type": "code",
     "collapsed": false,
     "input": [],
     "language": "python",
     "metadata": {},
     "outputs": [],
     "prompt_number": 2
    },
    {
     "cell_type": "code",
     "collapsed": false,
     "input": [
      "def remap_col(df,colname, mapping=None):\n",
      "  \"\"\"'mapping' is a dict sending old col elements to new ones, perhaps changing data types even.\n",
      "      very useful for mapping factor columns from R to integer columns for Python\n",
      "  \"\"\"\n",
      "  if not mapping:\n",
      "    global map_dict\n",
      "    mapping = map_dict.copy()\n",
      "  df[colname] = df[colname].map(lambda x: mapping[x]) \n",
      "  return df\n"
     ],
     "language": "python",
     "metadata": {},
     "outputs": [],
     "prompt_number": 143
    },
    {
     "cell_type": "code",
     "collapsed": false,
     "input": [
      "df1 = remap_col(samtest,'activity')"
     ],
     "language": "python",
     "metadata": {},
     "outputs": [],
     "prompt_number": 146
    },
    {
     "cell_type": "code",
     "collapsed": false,
     "input": [
      "df1['activity']"
     ],
     "language": "python",
     "metadata": {},
     "outputs": [
      {
       "output_type": "pyout",
       "prompt_number": 147,
       "text": [
        "0     3\n",
        "1     3\n",
        "2     3\n",
        "3     3\n",
        "4     3\n",
        "5     3\n",
        "6     3\n",
        "7     3\n",
        "8     3\n",
        "9     3\n",
        "10    3\n",
        "11    3\n",
        "12    3\n",
        "13    3\n",
        "14    3\n",
        "...\n",
        "1470    5\n",
        "1471    5\n",
        "1472    5\n",
        "1473    5\n",
        "1474    5\n",
        "1475    5\n",
        "1476    5\n",
        "1477    5\n",
        "1478    5\n",
        "1479    5\n",
        "1480    5\n",
        "1481    5\n",
        "1482    5\n",
        "1483    5\n",
        "1484    5\n",
        "Name: activity, Length: 1485, dtype: int64"
       ]
      }
     ],
     "prompt_number": 147
    },
    {
     "cell_type": "code",
     "collapsed": false,
     "input": [
      "import sklearn.ensemble.RandomForestClassifier"
     ],
     "language": "python",
     "metadata": {},
     "outputs": [
      {
       "ename": "ImportError",
       "evalue": "No module named RandomForestClassifier",
       "output_type": "pyerr",
       "traceback": [
        "\u001b[0;31m---------------------------------------------------------------------------\u001b[0m\n\u001b[0;31mImportError\u001b[0m                               Traceback (most recent call last)",
        "\u001b[0;32m<ipython-input-150-bac63fd0551e>\u001b[0m in \u001b[0;36m<module>\u001b[0;34m()\u001b[0m\n\u001b[0;32m----> 1\u001b[0;31m \u001b[0;32mimport\u001b[0m \u001b[0msklearn\u001b[0m\u001b[0;34m.\u001b[0m\u001b[0mensemble\u001b[0m\u001b[0;34m.\u001b[0m\u001b[0mRandomForestClassifier\u001b[0m\u001b[0;34m\u001b[0m\u001b[0m\n\u001b[0m",
        "\u001b[0;31mImportError\u001b[0m: No module named RandomForestClassifier"
       ]
      }
     ],
     "prompt_number": 150
    },
    {
     "cell_type": "code",
     "collapsed": false,
     "input": [
      "df1.columns"
     ],
     "language": "python",
     "metadata": {},
     "outputs": [
      {
       "output_type": "pyout",
       "prompt_number": 151,
       "text": [
        "Index([Unnamed: 0, tAccMean, tAccStd, tJerkMean, tJerkSD, tGyroMean, tGyroSD, tGyroJerkMean, tGyroJerkMagSD, fAccMean, fAccSD, fAccMeanFreq, fJerkMean, fJerkSD, fJerkMeanFreq, fGyroMean, fGyroSD, fGyroMeanFreq, fGyroJerkMean, fGyroJerkSD, fGyroJerkMeanFreq, fAccSkewness, fJerkSkewness, fGyroSkewness, fGyroJerkSkewness, fAccKurtosis, fJerkKurtosis, fGyroKurtosis, fGyroJerkKurtosis, angleAccGravity, angleJerkGravity, angleGyroGravity, angleGyroJerkGravity, angleXGravity, angleYGravity, angleZGravity, subject, activity], dtype=object)"
       ]
      }
     ],
     "prompt_number": 151
    },
    {
     "cell_type": "code",
     "collapsed": false,
     "input": [
      "df1[-['activity']].columns"
     ],
     "language": "python",
     "metadata": {},
     "outputs": [
      {
       "ename": "TypeError",
       "evalue": "bad operand type for unary -: 'list'",
       "output_type": "pyerr",
       "traceback": [
        "\u001b[0;31m---------------------------------------------------------------------------\u001b[0m\n\u001b[0;31mTypeError\u001b[0m                                 Traceback (most recent call last)",
        "\u001b[0;32m<ipython-input-153-308c55af4f5f>\u001b[0m in \u001b[0;36m<module>\u001b[0;34m()\u001b[0m\n\u001b[0;32m----> 1\u001b[0;31m \u001b[0mdf1\u001b[0m\u001b[0;34m[\u001b[0m\u001b[0;34m-\u001b[0m\u001b[0;34m[\u001b[0m\u001b[0;34m'activity'\u001b[0m\u001b[0;34m]\u001b[0m\u001b[0;34m]\u001b[0m\u001b[0;34m.\u001b[0m\u001b[0mcolumns\u001b[0m\u001b[0;34m\u001b[0m\u001b[0m\n\u001b[0m",
        "\u001b[0;31mTypeError\u001b[0m: bad operand type for unary -: 'list'"
       ]
      }
     ],
     "prompt_number": 153
    },
    {
     "cell_type": "code",
     "collapsed": false,
     "input": [
      "len(range(10))\n"
     ],
     "language": "python",
     "metadata": {},
     "outputs": [
      {
       "output_type": "pyout",
       "prompt_number": 154,
       "text": [
        "10"
       ]
      }
     ],
     "prompt_number": 154
    },
    {
     "cell_type": "code",
     "collapsed": false,
     "input": [
      "range(10)"
     ],
     "language": "python",
     "metadata": {},
     "outputs": [
      {
       "output_type": "pyout",
       "prompt_number": 155,
       "text": [
        "[0, 1, 2, 3, 4, 5, 6, 7, 8, 9]"
       ]
      }
     ],
     "prompt_number": 155
    },
    {
     "cell_type": "code",
     "collapsed": false,
     "input": [
      "import pandas as pd\n",
      "import pylab as plt\n",
      "\n",
      "samtrain = pd.read_csv('../datasets/samsung/samtrain.csv')\n",
      "samval = pd.read_csv('../datasets/samsung/samval.csv')\n",
      "samtest = pd.read_csv('../datasets/samsung/samtest.csv')\n",
      "\n",
      "import randomforests as rf\n",
      "samtrain = rf.remap_col(samtrain,'activity')\n",
      "samval = rf.remap_col(samval,'activity')\n",
      "samtest = rf.remap_col(samtest,'activity')\n",
      "\n",
      "import sklearn.ensemble as sk\n",
      "rfc = sk.RandomForestClassifier(n_estimators=500, compute_importances=True, oob_score=True)\n",
      "train_data = samtrain[samtrain.columns[1:-2]]\n",
      "train_truth = samtrain['activity']\n",
      "model = rfc.fit(train_data, train_truth)"
     ],
     "language": "python",
     "metadata": {},
     "outputs": [],
     "prompt_number": 4
    },
    {
     "cell_type": "code",
     "collapsed": false,
     "input": [
      "val_data = samval[samval.columns[1:-2]]\n",
      "val_truth = samval['activity']\n",
      "val_pred = rfc.predict(val_data)\n",
      "\n",
      "test_data = samtest[samtest.columns[1:-2]]\n",
      "test_truth = samtest['activity']\n",
      "test_pred = rfc.predict(test_data)\n",
      "\n",
      "import sklearn.metrics as skm\n",
      "test_cm = skm.confusion_matrix(test_truth,test_pred)\n",
      "\n",
      "import pylab as pl\n",
      "print(test_cm)\n",
      "pl.matshow(test_cm)\n",
      "pl.title('Confusion matrix for test data')\n",
      "pl.colorbar()\n",
      "pl.show()\n",
      "\n",
      "\n",
      "#full_data = pd.concat([samtrain,samval,samtest])\n",
      "#full_train = full_data[full_data.columns[1:-2]]\n",
      "#full_pred = rfc.predict(full_train)\n",
      "#full_truth = full_data['activity']\n",
      "#full_cm = skm.confusion_matrix(full_truth,full_pred)\n",
      "#print(full_cm)\n",
      "#pl.matshow(full_cm)\n",
      "#pl.title('Confusion matrix for all data')\n",
      "#pl.colorbar()\n",
      "#pl.show()"
     ],
     "language": "python",
     "metadata": {},
     "outputs": [
      {
       "output_type": "stream",
       "stream": "stdout",
       "text": [
        "[[293   0   0   0   0   0]\n",
        " [  0 223  41   0   0   0]\n",
        " [  0  30 253   0   0   0]\n",
        " [  0   0   0 202  21   6]\n",
        " [  0   0  14   1 175  26]\n",
        " [  0   0   0   4  14 182]]\n"
       ]
      },
      {
       "output_type": "display_data",
       "png": "[encoded data removed]"
      }
     ],
     "prompt_number": 6
    },
    {
     "cell_type": "code",
     "collapsed": false,
     "input": [],
     "language": "python",
     "metadata": {},
     "outputs": [],
     "prompt_number": 3
    },
    {
     "cell_type": "code",
     "collapsed": false,
     "input": [],
     "language": "python",
     "metadata": {},
     "outputs": []
    }
   ],
   "metadata": {}
  }
 ]
}