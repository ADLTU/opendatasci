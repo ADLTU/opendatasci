{
 "metadata": {
  "name": "B3. Logistic Regression - Analysis"
 },
 "nbformat": 3,
 "nbformat_minor": 0,
 "worksheets": [
  {
   "cells": [
    {
     "cell_type": "markdown",
     "metadata": {},
     "source": [
      "Logistic Regression - Analysis\n",
      "==============================\n",
      "***"
     ]
    },
    {
     "cell_type": "markdown",
     "metadata": {},
     "source": [
      "###Introduction\n",
      "\n",
      "We're going to look at the same data set from Lending Club but ask a different question.  One that has a binary outcome.  \n",
      "\n",
      "Let's assume we have a FICO Score of 720 and we want to borrow 10,000 dollars.\n",
      "We would like to get an Interest Rate less that 12 per cent.\n",
      "\n",
      "The question we pose is :- \n",
      "\n",
      "#####_Can we get a loan, from the Lending Club, of 10,000 dollars at 12 per cent or less, with a FICO Score of 720?_"
     ]
    },
    {
     "cell_type": "markdown",
     "metadata": {},
     "source": [
      "###Methods\n",
      "\n",
      "How do we use Logistic Regression here?  Let's recast the problem as follows:-\n",
      "\n",
      "#####_What is the probability of getting a Loan, from the Lending Club, of 10,000 dollars at 12 per cent or less with a FICO Score of 720?_  \n",
      "\n",
      "Then let us decide that if we get a probability of less than 0.5 we say it means we won't get the loan and if it is greater than 0.5 we will.\n",
      "\n",
      "In reality we can set the threshold higher, say 0.8, if we want to be \"more certain\" that it will happen, but for this exercise we'll just say 0.5 to keep things simple.\n"
     ]
    },
    {
     "cell_type": "markdown",
     "metadata": {},
     "source": [
      "From initial discussion we say we want to start with a model of the form\n",
      "\n",
      "$Interest Rate = a_0 + a_1*FICOScore + a_2*LoanAmount$\n",
      "\n",
      "And the derive a second equation of the form\n",
      "\n",
      "Z = Prob (InterestRate less than 12 percent).\n",
      "\n",
      "We apply this to the existing dataset and create a Logistic Regression Model using our modeling software."
     ]
    },
    {
     "cell_type": "markdown",
     "metadata": {},
     "source": [
      "### Results\n",
      "\n",
      "Like with the Linear Regression Model, we use the cleaned up Lending Club data set as input and the Logistic Model gives us the following output:-"
     ]
    },
    {
     "cell_type": "code",
     "collapsed": false,
     "input": [
      "%%R\n",
      "#Fix the following to give the right output\n",
      "#load the same data set\n",
      "# create the Z data set as above\n",
      "#12pcModel <- glm(formula = x ~ lfr$fico + lfr$amt)\n",
      "#fz<-function(fico, amt){ pred<-t(coeff)%*%c(1,fico,amt); 1/(1+exp(-1*pred)) }\n"
     ],
     "language": "python",
     "metadata": {},
     "outputs": []
    },
    {
     "cell_type": "code",
     "collapsed": false,
     "input": [
      "\n",
      "Deviance Residuals: \n",
      "     Min        1Q    Median        3Q       Max  \n",
      "-1.17191  -0.35038   0.09017   0.32643   0.77221  \n",
      "\n",
      "Coefficients:\n",
      "              Estimate Std. Error t value Pr(>|t|)    \n",
      "(Intercept) -3.949e+00  1.511e-01  -26.14   <2e-16 ***\n",
      "lfr$fico     6.900e-03  2.145e-04   32.17   <2e-16 ***\n",
      "lfr$amt     -1.858e-05  9.631e-07  -19.29   <2e-16 ***\n",
      "---\n",
      "Signif. codes:  0 \u2018***\u2019 0.001 \u2018**\u2019 0.01 \u2018*\u2019 0.05 \u2018.\u2019 0.1 \u2018 \u2019 1 \n",
      "\n",
      "(Dispersion parameter for gaussian family taken to be 0.1401321)\n",
      "\n",
      "    Null deviance: 533.99  on 2499  degrees of freedom\n",
      "Residual deviance: 349.91  on 2497  degrees of freedom\n",
      "AIC: 2186.8\n",
      "\n",
      "Number of Fisher Scoring iterations: 2\n",
      "\n",
      "> lfr.logistic.model$coefficients\n",
      "  (Intercept)      lfr$fico       lfr$amt \n",
      "-3.949337e+00  6.899995e-03 -1.857794e-05 "
     ],
     "language": "python",
     "metadata": {},
     "outputs": []
    },
    {
     "cell_type": "markdown",
     "metadata": {},
     "source": [
      "Now we use our data FICO=720 and Loan Amount=10,000 to get a probability using the Z value\n",
      "and the logistic formula. \n",
      "\n",
      "We create a function that encapsulates all this with the parameters from above creating a predictor and the FICO and Amount as inputs - it outputs a number between 0 and 1. "
     ]
    },
    {
     "cell_type": "code",
     "collapsed": false,
     "input": [
      "%%R\n",
      "\n",
      "# Note: the R comments here need to be converted to Markdown and moved out of this block.\n",
      "# coeff <- c(-3.949337e+00,  6.899995e-03, -1.857794e-05) \n",
      "fz<-function(fico, amt){ pred<-t(coeff)%*%c(1,fico,amt); 1/(1+exp(-1*pred)) }\n",
      "\n",
      "print(fz(720,10000))\n"
     ],
     "language": "python",
     "metadata": {},
     "outputs": [
      {
       "output_type": "display_data",
       "text": [
        "          [,1]\n",
        "[1,] 0.6969635\n"
       ]
      }
     ],
     "prompt_number": 5
    },
    {
     "cell_type": "markdown",
     "metadata": {},
     "source": [
      "### Conclusion\n",
      "\n",
      "Here we see a probability close to 0.7 which tells us that we have a good chance that we will get the loan at a favorable interest rate.\n",
      "Using our threshold of 0.5 we count this as a yes.\n",
      "\n",
      "Using a Logistic Regression model, a desired Interest Rate of 12 per cent, we use dthe Lending Club dataset to compute a probability that we will get a 10,000 dollar loan with a FICO Score of 720.  Our result indicated with a strong degree of certainty that we would be able to procure a loan with these terms. \n"
     ]
    },
    {
     "cell_type": "code",
     "collapsed": false,
     "input": [
      "from IPython.core.display import HTML\n",
      "def css_styling():\n",
      "    styles = open(\"../styles/custom.css\", \"r\").read()\n",
      "    return HTML(styles)\n",
      "css_styling()"
     ],
     "language": "python",
     "metadata": {},
     "outputs": [
      {
       "html": [
        "<style>\n",
        "    @font-face {\n",
        "        font-family: \"Computer Modern\";\n",
        "        src: url('http://mirrors.ctan.org/fonts/cm-unicode/fonts/otf/cmunss.otf');\n",
        "    }\n",
        "    div.cell{\n",
        "        width:800px;\n",
        "        margin-left:auto;\n",
        "        margin-right:auto;\n",
        "    }\n",
        "    h1 {\n",
        "        font-family: \"Charis SIL\", Palatino, serif;\n",
        "    }\n",
        "    h4{\n",
        "        margin-top:12px;\n",
        "        margin-bottom: 3px;\n",
        "       }\n",
        "    div.text_cell_render{\n",
        "        font-family: Computer Modern, \"Helvetica Neue\", Arial, Helvetica, Geneva, sans-serif;\n",
        "        line-height: 145%;\n",
        "        font-size: 120%;\n",
        "        width:800px;\n",
        "        margin-left:auto;\n",
        "        margin-right:auto;\n",
        "    }\n",
        "    .CodeMirror{\n",
        "            font-family: \"Source Code Pro\", source-code-pro,Consolas, monospace;\n",
        "    }\n",
        "    .prompt{\n",
        "        display: None;\n",
        "    }\n",
        "    .text_cell_render h5 {\n",
        "        font-weight: 300;\n",
        "        font-size: 16pt;\n",
        "        color: #4057A1;\n",
        "        font-style: italic;\n",
        "        margin-bottom: .5em;\n",
        "        margin-top: 0.5em;\n",
        "        display: block;\n",
        "    }\n",
        "    \n",
        "    .warning{\n",
        "        color: rgb( 240, 20, 20 )\n",
        "        }\n",
        "</style>\n",
        "<script>\n",
        "    MathJax.Hub.Config({\n",
        "                        TeX: {\n",
        "                           extensions: [\"AMSmath.js\"]\n",
        "                           },\n",
        "                tex2jax: {\n",
        "                    inlineMath: [ ['$','$'], [\"\\\\(\",\"\\\\)\"] ],\n",
        "                    displayMath: [ ['$$','$$'], [\"\\\\[\",\"\\\\]\"] ]\n",
        "                },\n",
        "                displayAlign: 'center', // Change this to 'center' to center equations.\n",
        "                \"HTML-CSS\": {\n",
        "                    styles: {'.MathJax_Display': {\"margin\": 4}}\n",
        "                }\n",
        "        });\n",
        "</script>"
       ],
       "output_type": "pyout",
       "prompt_number": 2,
       "text": [
        "<IPython.core.display.HTML at 0x109413710>"
       ]
      }
     ],
     "prompt_number": 2
    },
    {
     "cell_type": "code",
     "collapsed": false,
     "input": [],
     "language": "python",
     "metadata": {},
     "outputs": []
    }
   ],
   "metadata": {}
  }
 ]
}