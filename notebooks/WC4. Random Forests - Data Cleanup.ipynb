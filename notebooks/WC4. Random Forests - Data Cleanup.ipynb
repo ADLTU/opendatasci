{
 "metadata": {
  "name": "WC4. Random Forests - Data Cleanup"
 },
 "nbformat": 3,
 "nbformat_minor": 0,
 "worksheets": [
  {
   "cells": [
    {
     "cell_type": "markdown",
     "metadata": {},
     "source": [
      "* clean up titles\n",
      "* successivley shorten them\n",
      "* keep only some\n",
      "* rename them\n",
      "* alternately use x1,...x512\n",
      "* use random forests on arbitrary variables and compare"
     ]
    },
    {
     "cell_type": "code",
     "collapsed": false,
     "input": [],
     "language": "python",
     "metadata": {},
     "outputs": []
    }
   ],
   "metadata": {}
  }
 ]
}