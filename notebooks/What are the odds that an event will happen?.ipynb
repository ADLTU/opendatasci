{
 "metadata": {
  "name": "What are the odds that an event will happen?"
 },
 "nbformat": 3,
 "nbformat_minor": 0,
 "worksheets": [
  {
   "cells": [
    {
     "cell_type": "markdown",
     "metadata": {},
     "source": [
      "##Using Logistic Regression to predict Yes/No outcomes##\n",
      "\n",
      "\n",
      "Often we have to resolve questions with binary or Yes/No outcomes.\n",
      "\n",
      "\n",
      "For example:\n",
      "\n",
      "_Does a patient have cancer?_\n",
      "\n",
      "_Will a team win the next game?_\n",
      "\n",
      "_Will the customer buy my product?_\n",
      "\n",
      "_Will I get the loan?_\n",
      "\n",
      "\n",
      "\n"
     ]
    },
    {
     "cell_type": "markdown",
     "metadata": {},
     "source": [
      "##A familiar example\n",
      "\n",
      "We are going to start by plotting something we understand in the real world, although we may never actually have plotted it before.\n",
      "Let's say on the X axis is the number of goals scored by an NFL team over a season and say the outcome on the Y axis is whether they lost or won the game indicated by a value of 0 or 1 respectively.  \n",
      "\n",
      "Then a plot for these scores might look like this.\n",
      "\n",
      "\n",
      "[[ plot of bivalued points Score vs Win/Loss ]]\n",
      "\n",
      "\n",
      "So how do we predict whether we have a win or a loss if we are given a score?  \n",
      "Clearly linear regression is not a good model.\n",
      "\n",
      "Take a look at this.  \n",
      "\n",
      "[[ binary outcomes w linear plot ]]  \n",
      "\n",
      "We need a better way to model our data.  \n",
      "\n"
     ]
    },
    {
     "cell_type": "code",
     "collapsed": false,
     "input": [],
     "language": "python",
     "metadata": {},
     "outputs": []
    }
   ],
   "metadata": {}
  }
 ]
}