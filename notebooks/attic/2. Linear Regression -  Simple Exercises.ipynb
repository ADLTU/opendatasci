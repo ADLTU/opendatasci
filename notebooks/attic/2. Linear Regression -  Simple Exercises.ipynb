{
 "metadata": {
  "name": "2. Linear Regression -  Simple Exercises"
 },
 "nbformat": 3,
 "nbformat_minor": 0,
 "worksheets": [
  {
   "cells": [
    {
     "cell_type": "code",
     "collapsed": false,
     "input": [
      "# a) clean the data\n",
      "# issues\n",
      "## titles\n",
      "## included \"'\" s\n",
      "## numeric values\n",
      "## factors\n"
     ],
     "language": "python",
     "metadata": {},
     "outputs": [],
     "prompt_number": 2
    },
    {
     "cell_type": "code",
     "collapsed": false,
     "input": [
      "# b) fit a linear regression where movie score is dependent variable and box office $ is independent\n",
      "## what is the intercept and slope\n",
      "## how do you interpret this data"
     ],
     "language": "python",
     "metadata": {},
     "outputs": [],
     "prompt_number": 3
    },
    {
     "cell_type": "code",
     "collapsed": false,
     "input": [
      "# c) repeat this for \"running time\" as independent var instead of box office $"
     ],
     "language": "python",
     "metadata": {},
     "outputs": [],
     "prompt_number": 4
    },
    {
     "cell_type": "code",
     "collapsed": false,
     "input": [
      "# d) fit a multivariate linear regression where \"box office $\" and \"running time\" are the independent variables\n",
      "## what are the coefficients for each independent variable\n",
      "## interpret these"
     ],
     "language": "python",
     "metadata": {},
     "outputs": [],
     "prompt_number": 5
    },
    {
     "cell_type": "code",
     "collapsed": false,
     "input": [
      "# e) as in d but also investigate interaction between the two independent variables and interpret the coefficient"
     ],
     "language": "python",
     "metadata": {},
     "outputs": []
    }
   ],
   "metadata": {}
  }
 ]
}