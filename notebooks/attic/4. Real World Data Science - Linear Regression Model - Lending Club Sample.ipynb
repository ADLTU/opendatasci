{
 "metadata": {
  "name": "4. Real World Data Science - Linear Regression Model - Lending Club Sample"
 },
 "nbformat": 3,
 "nbformat_minor": 0,
 "worksheets": [
  {
   "cells": [
    {
     "cell_type": "code",
     "collapsed": false,
     "input": [
      "%%R\n",
      "load('./loansData.rda')\n"
     ],
     "language": "python",
     "metadata": {},
     "outputs": [],
     "prompt_number": 3
    },
    {
     "cell_type": "code",
     "collapsed": false,
     "input": [
      "# int rate\n",
      "\n",
      "# fico range\n",
      "\n",
      "# amt req\n",
      "\n",
      "# amt funded\n",
      "\n",
      "# loan length\n",
      "\n",
      "# loan purpose\n",
      "\n",
      "# debt to income ratio\n",
      "\n",
      "# state\n",
      "\n",
      "# home ownership\n",
      "\n",
      "# monthly income\n",
      "\n",
      "# open credit lines\n",
      "\n",
      "# revolving credit balance\n",
      "\n",
      "# inquiries in the last 6 months\n",
      "\n",
      "# employment length\n",
      "\n",
      "# 2500 samples\n",
      "\n",
      "# lending club web site\n"
     ],
     "language": "python",
     "metadata": {},
     "outputs": [],
     "prompt_number": 11
    },
    {
     "cell_type": "code",
     "collapsed": false,
     "input": [
      "# Given the same FICO score range what else determines interest rate\n"
     ],
     "language": "python",
     "metadata": {},
     "outputs": [],
     "prompt_number": 9
    },
    {
     "cell_type": "code",
     "collapsed": false,
     "input": [
      "# a) naive approach do 13 x 13 X .... regressions\n",
      "# then compare estimates and coefficients of each ....\n",
      "# this is \n",
      "# 1) naive and \"dumb\"\n",
      "# 2) takes a lot of work to get insight\n",
      "# 3) scales *very badly*"
     ],
     "language": "python",
     "metadata": {},
     "outputs": [],
     "prompt_number": 10
    },
    {
     "cell_type": "code",
     "collapsed": false,
     "input": [
      "# b) use domain knowledge to reduce variables\n",
      "# consider risk instead of interest rate and use domain knowledge to drill down\n",
      "# borrower risk vs loan risk\n",
      "# simplify\n",
      "# create a model\n",
      "# then iterate on the model and improve it\n",
      "# ( ** test against larger set )\n",
      "# ( ** tweak again ** )\n",
      "# ( ** use in production ** )\n",
      "# ( ** remember to keep sampling testing and tweaking )\n",
      "# ( ** track coefficient drift over quarters/years )"
     ],
     "language": "python",
     "metadata": {},
     "outputs": []
    },
    {
     "cell_type": "code",
     "collapsed": false,
     "input": [],
     "language": "python",
     "metadata": {},
     "outputs": []
    },
    {
     "cell_type": "markdown",
     "metadata": {},
     "source": [
      "<img src=\"files/fullFICO.smooth.png\">"
     ]
    },
    {
     "cell_type": "markdown",
     "metadata": {},
     "source": [
      "<img src=\"files/fullFICO.expository.smooth.png\">"
     ]
    },
    {
     "cell_type": "code",
     "collapsed": false,
     "input": [],
     "language": "python",
     "metadata": {},
     "outputs": []
    }
   ],
   "metadata": {}
  }
 ]
}