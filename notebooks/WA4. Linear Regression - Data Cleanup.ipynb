{
 "metadata": {
  "name": "WA4. Linear Regression - Data Cleanup"
 },
 "nbformat": 3,
 "nbformat_minor": 0,
 "worksheets": [
  {
   "cells": [
    {
     "cell_type": "markdown",
     "metadata": {},
     "source": [
      "Linear Regression - Data Cleanup\n",
      "================================"
     ]
    },
    {
     "cell_type": "markdown",
     "metadata": {},
     "source": [
      "Here we get into the detailed steps involved in data cleanup of the Lending Club dataset. We glossed over this in the Data Exploration lesson and left it as an exercise.  This is where we actually do the cleanup step by step."
     ]
    },
    {
     "cell_type": "markdown",
     "metadata": {},
     "source": [
      "* import\n",
      "-- use the pandas import function\n",
      "\n",
      "* remove %\n",
      "-- use the regex function\n",
      "-- map to int\n",
      "* remove months\n",
      "-- use the regex function\n",
      "-- map to int\n",
      "\n",
      "* simplify range and map to int\n",
      "-- split on '-'\n",
      "-- use bottom value\n",
      "-- show how to do mid-point\n",
      "-- convert to int\n",
      "\n",
      "* remove outliers\n",
      "-- n/a\n",
      "-- outlier income\n"
     ]
    },
    {
     "cell_type": "code",
     "collapsed": false,
     "input": [],
     "language": "python",
     "metadata": {},
     "outputs": []
    }
   ],
   "metadata": {}
  }
 ]
}