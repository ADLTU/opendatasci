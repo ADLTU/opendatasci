{
 "metadata": {
  "name": "WC3. Random Forests - Analysis - Worksheet"
 },
 "nbformat": 3,
 "nbformat_minor": 0,
 "worksheets": [
  {
   "cells": [
    {
     "cell_type": "markdown",
     "metadata": {},
     "source": [
      "## Results"
     ]
    },
    {
     "cell_type": "markdown",
     "metadata": {},
     "source": [
      "### Training\n",
      "\n",
      "We now run our RandomForest modeling software on our training set, described earlier, and derive a model along with some parameters describing how good our model is. "
     ]
    },
    {
     "cell_type": "code",
     "collapsed": false,
     "input": [
      "# We pull in the training, validation and test sets created according to the scheme described\n",
      "# in the data exploration lesson.\n",
      "\n",
      "import pandas as pd"
     ],
     "language": "python",
     "metadata": {},
     "outputs": [],
     "prompt_number": 11
    },
    {
     "cell_type": "code",
     "collapsed": false,
     "input": [
      "samtrain = pd.read_csv('../datasets/samsung/samtrain.csv')\n",
      "samtrain['subject'].unique()"
     ],
     "language": "python",
     "metadata": {},
     "outputs": [
      {
       "output_type": "pyout",
       "prompt_number": 12,
       "text": [
        "array([1, 3, 5, 6])"
       ]
      }
     ],
     "prompt_number": 12
    },
    {
     "cell_type": "code",
     "collapsed": false,
     "input": [
      "samval = pd.read_csv('../datasets/samsung/samval.csv')\n",
      "samval['subject'].unique()"
     ],
     "language": "python",
     "metadata": {},
     "outputs": [
      {
       "output_type": "pyout",
       "prompt_number": 13,
       "text": [
        "array([21, 22, 23, 25, 26])"
       ]
      }
     ],
     "prompt_number": 13
    },
    {
     "cell_type": "code",
     "collapsed": false,
     "input": [
      "samtest = pd.read_csv('../datasets/samsung/samtest.csv')\n",
      "samtest['subject'].unique()"
     ],
     "language": "python",
     "metadata": {},
     "outputs": [
      {
       "output_type": "pyout",
       "prompt_number": 14,
       "text": [
        "array([27, 28, 29, 30])"
       ]
      }
     ],
     "prompt_number": 14
    },
    {
     "cell_type": "code",
     "collapsed": false,
     "input": [
      "# We use the Python RandomForest package from the scikits.learn collection of algorithms. \n",
      "# The package is called sklearn.ensemble.RandomForestClassifier\n",
      "\n",
      "# For this we need to convert the target column ('activity') to integer values \n",
      "# because the Python RandomForest package requires that.  \n",
      "# In R it would have been a \"factor\" type and R would have used that for classification.\n",
      "\n",
      "# We map activity to an integer according to\n",
      "# laying = 1, sitting = 2, standing = 3, walk = 4, walkup = 5, walkdown = 6\n",
      "# Code is in supporting library randomforest.py\n",
      "\n",
      "import randomforests as rf\n",
      "samtrain = rf.remap_col(samtrain,'activity')\n",
      "samval = rf.remap_col(samval,'activity')\n",
      "samtest = rf.remap_col(samtest,'activity')"
     ],
     "language": "python",
     "metadata": {},
     "outputs": [],
     "prompt_number": 15
    },
    {
     "cell_type": "code",
     "collapsed": false,
     "input": [
      "import sklearn.ensemble as sk\n",
      "rfc = sk.RandomForestClassifier(n_estimators=500, compute_importances=True, oob_score=True)\n",
      "train_data = samtrain[samtrain.columns[1:-2]]\n",
      "train_truth = samtrain['activity']\n",
      "model = rfc.fit(train_data, train_truth)"
     ],
     "language": "python",
     "metadata": {},
     "outputs": [],
     "prompt_number": 16
    },
    {
     "cell_type": "code",
     "collapsed": false,
     "input": [
      "# use the OOB (out of band) score which is an estimate of accuracy of our model.\n",
      "rfc.oob_score_"
     ],
     "language": "python",
     "metadata": {},
     "outputs": [
      {
       "output_type": "pyout",
       "prompt_number": 17,
       "text": [
        "0.97870722433460078"
       ]
      }
     ],
     "prompt_number": 17
    },
    {
     "cell_type": "code",
     "collapsed": false,
     "input": [
      "### TRY THIS\n",
      "# use \"feature importance\" scores to see what the top 10 important features are\n",
      "fi = enumerate(rfc.feature_importances_)\n",
      "cols = samtrain.columns\n",
      "[(value,cols[i]) for (i,value) in fi if value > 0.04]\n",
      "## Change the value 0.04 which we picked empirically to give us 10 variables\n",
      "## try running this code after changing the value up and down so you get more or less variables\n",
      "## do you see how this might be useful in refining the model?\n",
      "## Here is the code in case you mess up the line above\n",
      "## [(value,cols[i]) for (i,value) in fi if value > 0.04]"
     ],
     "language": "python",
     "metadata": {},
     "outputs": [
      {
       "output_type": "pyout",
       "prompt_number": 32,
       "text": [
        "[(0.049417208797957281, 'tAccMean'),\n",
        " (0.040232503010481438, 'tAccStd'),\n",
        " (0.042021435454816999, 'tJerkMean'),\n",
        " (0.056748530984276763, 'tGyroJerkMagSD'),\n",
        " (0.058671311459878514, 'fAccMean'),\n",
        " (0.047979461996263705, 'fJerkSD'),\n",
        " (0.1378369422104955, 'angleGyroJerkGravity'),\n",
        " (0.17010923879020912, 'angleXGravity'),\n",
        " (0.044027095448683419, 'angleYGravity')]"
       ]
      }
     ],
     "prompt_number": 32
    },
    {
     "cell_type": "markdown",
     "metadata": {},
     "source": [
      "We use the predict() function using our model on our validation set and our test set and get the following results from our analysis of errors in the predictions."
     ]
    },
    {
     "cell_type": "code",
     "collapsed": false,
     "input": [
      "# pandas data frame adds a spurious unknown column in 0 position hence starting at col 1\n",
      "# not using subject column, activity ie target is in last columns hence -2 i.e dropping last 2 cols\n",
      "\n",
      "val_data = samval[samval.columns[1:-2]]\n",
      "val_truth = samval['activity']\n",
      "val_pred = rfc.predict(val_data)\n",
      "\n",
      "test_data = samtest[samtest.columns[1:-2]]\n",
      "test_truth = samtest['activity']\n",
      "test_pred = rfc.predict(test_data)"
     ],
     "language": "python",
     "metadata": {},
     "outputs": [],
     "prompt_number": 19
    },
    {
     "cell_type": "markdown",
     "metadata": {},
     "source": [
      "####Prediction Errors and Computed Error Measures  "
     ]
    },
    {
     "cell_type": "code",
     "collapsed": false,
     "input": [
      "print(\"mean accuracy score for validation set = %f\" %(rfc.score(val_data, val_truth)))\n",
      "print(\"mean accuracy score for test set = %f\" %(rfc.score(test_data, test_truth)))"
     ],
     "language": "python",
     "metadata": {},
     "outputs": [
      {
       "output_type": "stream",
       "stream": "stdout",
       "text": [
        "mean accuracy score for validation set = 0.837539\n",
        "mean accuracy score for test set = 0.898990"
       ]
      },
      {
       "output_type": "stream",
       "stream": "stdout",
       "text": [
        "\n"
       ]
      }
     ],
     "prompt_number": 20
    },
    {
     "cell_type": "code",
     "collapsed": false,
     "input": [
      "# use the confusion matrix to see how observations were misclassified as other activities\n",
      "# See [5]\n",
      "import sklearn.metrics as skm\n",
      "test_cm = skm.confusion_matrix(test_truth,test_pred)"
     ],
     "language": "python",
     "metadata": {},
     "outputs": [],
     "prompt_number": 21
    },
    {
     "cell_type": "code",
     "collapsed": false,
     "input": [
      "# visualize the confusion matrix"
     ],
     "language": "python",
     "metadata": {},
     "outputs": [],
     "prompt_number": 22
    },
    {
     "cell_type": "code",
     "collapsed": false,
     "input": [
      "import pylab as pl\n",
      "pl.matshow(test_cm)\n",
      "pl.title('Confusion matrix for test data')\n",
      "pl.colorbar()\n",
      "pl.show()"
     ],
     "language": "python",
     "metadata": {},
     "outputs": [
      {
       "output_type": "display_data",
       "png": "[encoded data removed]"
      }
     ],
     "prompt_number": 23
    },
    {
     "cell_type": "code",
     "collapsed": false,
     "input": [
      "# compute a number of other common measures of prediction goodness"
     ],
     "language": "python",
     "metadata": {},
     "outputs": [],
     "prompt_number": 24
    },
    {
     "cell_type": "markdown",
     "metadata": {},
     "source": [
      "We now compute some commonly used measures of prediction \"goodness\".  \n",
      "For more detail on these measures see\n",
      "[6],[7],[8],[9]"
     ]
    },
    {
     "cell_type": "code",
     "collapsed": false,
     "input": [
      "# Accuracy\n",
      "print(\"Accuracy = %f\" %(skm.accuracy_score(test_truth,test_pred)))\n",
      "# Precision\n",
      "print(\"Precision = %f\" %(skm.precision_score(test_truth,test_pred)))\n",
      "# Recall\n",
      "print(\"Recall = %f\" %(skm.recall_score(test_truth,test_pred)))\n",
      "# F1 Score\n",
      "print(\"F1 score = %f\" %(skm.f1_score(test_truth,test_pred)))"
     ],
     "language": "python",
     "metadata": {},
     "outputs": [
      {
       "output_type": "stream",
       "stream": "stdout",
       "text": [
        "Accuracy = 0.898990\n",
        "Precision = 0.901652\n",
        "Recall = 0.898990\n",
        "F1 score = 0.899470\n"
       ]
      }
     ],
     "prompt_number": 33
    },
    {
     "cell_type": "markdown",
     "metadata": {},
     "source": [
      "### Exercise\n",
      "\n",
      "Instead of using domain knowledge to reduce variables, use Random Forests directly on the full set of columns.  Then use variable importance and sort the variables.  \n",
      "\n",
      "Compare the model you get with the model you got from using domain knowledge.  \n",
      "You can short circuit the data cleanup process as well by simply renaming the variables x1, x2...xn, y where y is 'activity' the dependent variable.  \n",
      "\n",
      "Now look at the new Random Forest model you get.  It is likely to be more accurate at prediction than the one we have above. It is a black box model, where there is no meaning attached to the variables.  \n",
      "          \n",
      "* What insights does it give you?  \n",
      "* Which model do you prefer?  \n",
      "* Why?  \n",
      "* Is this an absolute preference or might it change?  \n",
      "* What might cause it to change? "
     ]
    },
    {
     "cell_type": "markdown",
     "metadata": {},
     "source": [
      "## References\n",
      "\n",
      "[1] Original dataset as R data https://spark-public.s3.amazonaws.com/dataanalysis/samsungData.rda  \n",
      "[2] Human Activity Recognition Using Smartphones http://archive.ics.uci.edu/ml/datasets/Human+Activity+Recognition+Using+Smartphones  \n",
      "[3] Android Developer Reference http://developer.android.com/reference/android/hardware/Sensor.html  \n",
      "[4] Random Forests http://en.wikipedia.org/wiki/Random_forest  \n",
      "[5] Confusion matrix http://en.wikipedia.org/wiki/Confusion_matrix\n",
      "[6] Mean Accuracy http://ieeexplore.ieee.org/xpl/login.jsp?tp=&arnumber=1054102&url=http%3A%2F%2Fieeexplore.ieee.org%2Fxpls%2Fabs_all.jsp%3Farnumber%3D1054102\n",
      "\n",
      "[7] Precision http://en.wikipedia.org/wiki/Precision_and_recall\n",
      "[8] Recall http://en.wikipedia.org/wiki/Precision_and_recall\n",
      "[9] F Measure http://en.wikipedia.org/wiki/Precision_and_recall"
     ]
    },
    {
     "cell_type": "code",
     "collapsed": false,
     "input": [
      "from IPython.core.display import HTML\n",
      "def css_styling():\n",
      "    styles = open(\"../styles/custom.css\", \"r\").read()\n",
      "    return HTML(styles)\n",
      "css_styling()"
     ],
     "language": "python",
     "metadata": {},
     "outputs": [
      {
       "html": [
        "<style>\n",
        "    @font-face {\n",
        "        font-family: \"Computer Modern\";\n",
        "        src: url('http://mirrors.ctan.org/fonts/cm-unicode/fonts/otf/cmunss.otf');\n",
        "    }\n",
        "    div.cell{\n",
        "        width:800px;\n",
        "        margin-left:auto;\n",
        "        margin-right:auto;\n",
        "    }\n",
        "    h1 {\n",
        "        font-family: \"Charis SIL\", Palatino, serif;\n",
        "    }\n",
        "    h4{\n",
        "        margin-top:12px;\n",
        "        margin-bottom: 3px;\n",
        "       }\n",
        "    div.text_cell_render{\n",
        "        font-family: Computer Modern, \"Helvetica Neue\", Arial, Helvetica, Geneva, sans-serif;\n",
        "        line-height: 145%;\n",
        "        font-size: 120%;\n",
        "        width:800px;\n",
        "        margin-left:auto;\n",
        "        margin-right:auto;\n",
        "    }\n",
        "    .CodeMirror{\n",
        "            font-family: \"Source Code Pro\", source-code-pro,Consolas, monospace;\n",
        "    }\n",
        "    .prompt{\n",
        "        display: None;\n",
        "    }\n",
        "    .text_cell_render h5 {\n",
        "        font-weight: 300;\n",
        "        font-size: 16pt;\n",
        "        color: #4057A1;\n",
        "        font-style: italic;\n",
        "        margin-bottom: .5em;\n",
        "        margin-top: 0.5em;\n",
        "        display: block;\n",
        "    }\n",
        "    \n",
        "    .warning{\n",
        "        color: rgb( 240, 20, 20 )\n",
        "        }\n",
        "</style>\n",
        "<script>\n",
        "    MathJax.Hub.Config({\n",
        "                        TeX: {\n",
        "                           extensions: [\"AMSmath.js\"]\n",
        "                           },\n",
        "                tex2jax: {\n",
        "                    inlineMath: [ ['$','$'], [\"\\\\(\",\"\\\\)\"] ],\n",
        "                    displayMath: [ ['$$','$$'], [\"\\\\[\",\"\\\\]\"] ]\n",
        "                },\n",
        "                displayAlign: 'center', // Change this to 'center' to center equations.\n",
        "                \"HTML-CSS\": {\n",
        "                    styles: {'.MathJax_Display': {\"margin\": 4}}\n",
        "                }\n",
        "        });\n",
        "</script>"
       ],
       "output_type": "pyout",
       "prompt_number": 29,
       "text": [
        "<IPython.core.display.HTML at 0x109494290>"
       ]
      }
     ],
     "prompt_number": 29
    },
    {
     "cell_type": "code",
     "collapsed": false,
     "input": [],
     "language": "python",
     "metadata": {},
     "outputs": [],
     "prompt_number": 29
    }
   ],
   "metadata": {}
  }
 ]
}