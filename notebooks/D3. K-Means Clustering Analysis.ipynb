{
 "metadata": {
  "name": "D3. K-Means Clustering Analysis"
 },
 "nbformat": 3,
 "nbformat_minor": 0,
 "worksheets": [
  {
   "cells": [
    {
     "cell_type": "markdown",
     "metadata": {},
     "source": [
      "## Introduction\n",
      "\n",
      "We use the well known Iris data set to explore K-Means clustering further and use the heuristic \"elbow\" method to pick a \"good\" number of clusters. The Iris data set is found in the UCI Repository [1] but is also part of the Python test data.  Here we use SciPy and NumPy to do our computations so this data is already available in the SciPy distribution.  We plot the elbow\n",
      "plot and the K-Means cluster assignment for the final clustering.\n"
     ]
    },
    {
     "cell_type": "markdown",
     "metadata": {},
     "source": [
      "## Methods\n",
      "\n"
     ]
    },
    {
     "cell_type": "markdown",
     "metadata": {},
     "source": [
<<<<<<< HEAD
      "We use NumPy and SciPy to do K-Means clustering on the well-known Iris data set using number of clusters K = 1 to 10.  (see discussion on StackOverflow [2]) \n",
=======
      "As per a discussion on StackOverflow [2] we use NumPy and SciPy to do k-means clustering on the well-known Iris data set using number of clusters K = 1 to 10.  \n",
>>>>>>> 220c92bc67d802e725ede713b8865704aa8f6789
      "\n",
      "Although we know from the data that there are fewer than 10 natural clusters, this allows us to plot a measure called \"within cluster sum-of-squares\" vs. number of clusters.  This measure tracks how \"tight\" a cluster is.  It operates on each cluster and adds up the squares of the distance of each point in a cluster from the centroid of the cluster.  \n",
      "\n",
      "That is, for each point in a cluster we take the distance between that point and the centroid of the cluster and square it.  We do this for each point in the cluster and then we sum it for that cluster.  Then we do this for each cluster.  \n",
      "\n",
      "When we have a tight cluster individual distances will be small and hence the sum of squares for that cluster be small.  For a \"bad\" or loose cluster the opposite is true.\n",
      "\n",
      "Now further, when we increase the value of K, the value of \"within-cluster-sum-of-squares\" will drop as we have more clusters hence smaller distances to centroids.  But each successive increase in K will not give the same drop.  At some point the improvement will start to level off.  We call that value of K the elbow and use that as the \"good\" value of K.\n",
      "\n",
      "We do this now for the Iris data set.\n",
      "\n"
     ]
    },
    {
     "cell_type": "markdown",
     "metadata": {},
     "source": [
      "##Results\n",
      "\n",
      "\n",
      "\n",
      "\n"
     ]
    },
    {
     "cell_type": "markdown",
     "metadata": {},
     "source": [
      "We run the following SciPy and NumPy code in [2] and generate the plots mentioned above using the built in Matplotlib plotting library."
     ]
    },
    {
     "cell_type": "code",
     "collapsed": false,
     "input": [
      "import numpy as np\n",
      "from scipy.cluster.vq import kmeans,vq\n",
      "from scipy.spatial.distance import cdist\n",
      "import matplotlib.pyplot as plt\n",
      "\n",
      "# load the iris dataset\n",
      "#fName = '/Applications/anaconda/lib/python2.7/site-packages/scipy/spatial/tests/data/iris.txt'\n",
      "fName = '../datasets/untsvmin2.txt'\n",
      "fp = open(fName)\n",
      "X = np.loadtxt(fp)\n",
      "fp.close()\n",
      "\n",
      "##### cluster data into K=1..10 clusters #####\n",
      "K = range(1,10)\n",
      "\n",
      "# scipy.cluster.vq.kmeans\n",
      "KM = [kmeans(X,k) for k in K] # apply kmeans 1 to 10\n",
      "centroids = [cent for (cent,var) in KM]   # cluster centroids\n",
      "\n",
      "D_k = [cdist(X, cent, 'euclidean') for cent in centroids]\n",
      "cIdx = [np.argmin(D,axis=1) for D in D_k]\n",
      "dist = [np.min(D,axis=1) for D in D_k]\n",
      "avgWithinSS = [sum(d)/X.shape[0] for d in dist]\n",
      "\n",
      "##### plot ###\n",
      "kIdx = 2\n",
      "\n",
      "# elbow curve\n",
      "fig = plt.figure()\n",
      "ax = fig.add_subplot(111)\n",
      "ax.plot(K, avgWithinSS, 'b*-')\n",
      "ax.plot(K[kIdx], avgWithinSS[kIdx], marker='o', markersize=12, \n",
      "    markeredgewidth=2, markeredgecolor='r', markerfacecolor='None')\n",
      "plt.grid(True)\n",
      "plt.xlabel('Number of clusters')\n",
      "plt.ylabel('Average within-cluster sum of squares')\n",
      "plt.title('Elbow for KMeans clustering')\n",
      "\n",
      "# scatter plot\n",
      "fig = plt.figure()\n",
      "ax = fig.add_subplot(111)\n",
      "#ax.scatter(X[:,2],X[:,1], s=30, c=cIdx[k])\n",
      "clr = ['b','g','r','c','m','y','k']\n",
      "for i in range(K[kIdx]):\n",
      "    ind = (cIdx[kIdx]==i)\n",
      "    ax.scatter(X[ind,2],X[ind,1], s=30, c=clr[i], label='Cluster %d'%i)\n",
      "plt.xlabel('Petal Length')\n",
      "plt.ylabel('Sepal Width')\n",
      "plt.title('Iris Dataset, KMeans clustering with K=%d' % K[kIdx])\n",
      "plt.legend()\n",
      "\n",
      "plt.show()"
     ],
     "language": "python",
     "metadata": {},
     "outputs": [
      {
       "ename": "ValueError",
       "evalue": "XA must be a 2-dimensional array.",
       "output_type": "pyerr",
       "traceback": [
        "\u001b[0;31m---------------------------------------------------------------------------\u001b[0m\n\u001b[0;31mValueError\u001b[0m                                Traceback (most recent call last)",
        "\u001b[0;32m<ipython-input-1-f7672e3bb59c>\u001b[0m in \u001b[0;36m<module>\u001b[0;34m()\u001b[0m\n\u001b[1;32m     18\u001b[0m \u001b[0mcentroids\u001b[0m \u001b[0;34m=\u001b[0m \u001b[0;34m[\u001b[0m\u001b[0mcent\u001b[0m \u001b[0;32mfor\u001b[0m \u001b[0;34m(\u001b[0m\u001b[0mcent\u001b[0m\u001b[0;34m,\u001b[0m\u001b[0mvar\u001b[0m\u001b[0;34m)\u001b[0m \u001b[0;32min\u001b[0m \u001b[0mKM\u001b[0m\u001b[0;34m]\u001b[0m   \u001b[0;31m# cluster centroids\u001b[0m\u001b[0;34m\u001b[0m\u001b[0m\n\u001b[1;32m     19\u001b[0m \u001b[0;34m\u001b[0m\u001b[0m\n\u001b[0;32m---> 20\u001b[0;31m \u001b[0mD_k\u001b[0m \u001b[0;34m=\u001b[0m \u001b[0;34m[\u001b[0m\u001b[0mcdist\u001b[0m\u001b[0;34m(\u001b[0m\u001b[0mX\u001b[0m\u001b[0;34m,\u001b[0m \u001b[0mcent\u001b[0m\u001b[0;34m,\u001b[0m \u001b[0;34m'euclidean'\u001b[0m\u001b[0;34m)\u001b[0m \u001b[0;32mfor\u001b[0m \u001b[0mcent\u001b[0m \u001b[0;32min\u001b[0m \u001b[0mcentroids\u001b[0m\u001b[0;34m]\u001b[0m\u001b[0;34m\u001b[0m\u001b[0m\n\u001b[0m\u001b[1;32m     21\u001b[0m \u001b[0mcIdx\u001b[0m \u001b[0;34m=\u001b[0m \u001b[0;34m[\u001b[0m\u001b[0mnp\u001b[0m\u001b[0;34m.\u001b[0m\u001b[0margmin\u001b[0m\u001b[0;34m(\u001b[0m\u001b[0mD\u001b[0m\u001b[0;34m,\u001b[0m\u001b[0maxis\u001b[0m\u001b[0;34m=\u001b[0m\u001b[0;36m1\u001b[0m\u001b[0;34m)\u001b[0m \u001b[0;32mfor\u001b[0m \u001b[0mD\u001b[0m \u001b[0;32min\u001b[0m \u001b[0mD_k\u001b[0m\u001b[0;34m]\u001b[0m\u001b[0;34m\u001b[0m\u001b[0m\n\u001b[1;32m     22\u001b[0m \u001b[0mdist\u001b[0m \u001b[0;34m=\u001b[0m \u001b[0;34m[\u001b[0m\u001b[0mnp\u001b[0m\u001b[0;34m.\u001b[0m\u001b[0mmin\u001b[0m\u001b[0;34m(\u001b[0m\u001b[0mD\u001b[0m\u001b[0;34m,\u001b[0m\u001b[0maxis\u001b[0m\u001b[0;34m=\u001b[0m\u001b[0;36m1\u001b[0m\u001b[0;34m)\u001b[0m \u001b[0;32mfor\u001b[0m \u001b[0mD\u001b[0m \u001b[0;32min\u001b[0m \u001b[0mD_k\u001b[0m\u001b[0;34m]\u001b[0m\u001b[0;34m\u001b[0m\u001b[0m\n",
        "\u001b[0;32m/Applications/anaconda/lib/python2.7/site-packages/scipy/spatial/distance.pyc\u001b[0m in \u001b[0;36mcdist\u001b[0;34m(XA, XB, metric, p, V, VI, w)\u001b[0m\n\u001b[1;32m   1902\u001b[0m \u001b[0;34m\u001b[0m\u001b[0m\n\u001b[1;32m   1903\u001b[0m     \u001b[0;32mif\u001b[0m \u001b[0mlen\u001b[0m\u001b[0;34m(\u001b[0m\u001b[0ms\u001b[0m\u001b[0;34m)\u001b[0m \u001b[0;34m!=\u001b[0m \u001b[0;36m2\u001b[0m\u001b[0;34m:\u001b[0m\u001b[0;34m\u001b[0m\u001b[0m\n\u001b[0;32m-> 1904\u001b[0;31m         \u001b[0;32mraise\u001b[0m \u001b[0mValueError\u001b[0m\u001b[0;34m(\u001b[0m\u001b[0;34m'XA must be a 2-dimensional array.'\u001b[0m\u001b[0;34m)\u001b[0m\u001b[0;34m\u001b[0m\u001b[0m\n\u001b[0m\u001b[1;32m   1905\u001b[0m     \u001b[0;32mif\u001b[0m \u001b[0mlen\u001b[0m\u001b[0;34m(\u001b[0m\u001b[0msB\u001b[0m\u001b[0;34m)\u001b[0m \u001b[0;34m!=\u001b[0m \u001b[0;36m2\u001b[0m\u001b[0;34m:\u001b[0m\u001b[0;34m\u001b[0m\u001b[0m\n\u001b[1;32m   1906\u001b[0m         \u001b[0;32mraise\u001b[0m \u001b[0mValueError\u001b[0m\u001b[0;34m(\u001b[0m\u001b[0;34m'XB must be a 2-dimensional array.'\u001b[0m\u001b[0;34m)\u001b[0m\u001b[0;34m\u001b[0m\u001b[0m\n",
        "\u001b[0;31mValueError\u001b[0m: XA must be a 2-dimensional array."
       ]
      }
     ],
     "prompt_number": 1
    },
    {
     "cell_type": "markdown",
     "metadata": {},
     "source": [
      "## Conclusions\n",
      "\n",
      "Using the elbow plot we see that the largest drops in \"average within-cluster sum-of squares\" occur from 1 to 2 and from 2 to 3 clusters.  After that the drops are much smaller and decreasing.  We pick 3 as the best number of clusters.  From our knowledge of the Iris data set we see that these clusters correspond to Iris species with Cluster 0 = Iris-versicolor, Cluster 1 = Iris-setosa and Cluster 2 = Iris-virginica."
     ]
    },
    {
     "cell_type": "markdown",
     "metadata": {},
     "source": [
      "##References\n",
      "[1] http://archive.ics.uci.edu/ml/datasets/Iris  \n",
      "[2] http://stackoverflow.com/questions/6645895/calculating-the-percentage-of-variance-measure-for-k-means "
     ]
    },
    {
     "cell_type": "code",
     "collapsed": false,
     "input": [
      "from IPython.core.display import HTML\n",
      "def css_styling():\n",
      "    styles = open(\"../styles/custom.css\", \"r\").read()\n",
      "    return HTML(styles)\n",
      "css_styling()"
     ],
     "language": "python",
     "metadata": {},
     "outputs": [
      {
       "html": [
        "<style>\n",
        "    @font-face {\n",
        "        font-family: \"Computer Modern\";\n",
        "        src: url('http://mirrors.ctan.org/fonts/cm-unicode/fonts/otf/cmunss.otf');\n",
        "    }\n",
        "    div.cell{\n",
        "        width:800px;\n",
        "        margin-left:auto;\n",
        "        margin-right:auto;\n",
        "    }\n",
        "    h1 {\n",
        "        font-family: \"Charis SIL\", Palatino, serif;\n",
        "    }\n",
        "    h4{\n",
        "        margin-top:12px;\n",
        "        margin-bottom: 3px;\n",
        "       }\n",
        "    div.text_cell_render{\n",
        "        font-family: Computer Modern, \"Helvetica Neue\", Arial, Helvetica, Geneva, sans-serif;\n",
        "        line-height: 145%;\n",
        "        font-size: 120%;\n",
        "        width:800px;\n",
        "        margin-left:auto;\n",
        "        margin-right:auto;\n",
        "    }\n",
        "    .CodeMirror{\n",
        "            font-family: \"Source Code Pro\", source-code-pro,Consolas, monospace;\n",
        "    }\n",
        "    .prompt{\n",
        "        display: None;\n",
        "    }\n",
        "    .text_cell_render h5 {\n",
        "        font-weight: 300;\n",
        "        font-size: 16pt;\n",
        "        color: #4057A1;\n",
        "        font-style: italic;\n",
        "        margin-bottom: .5em;\n",
        "        margin-top: 0.5em;\n",
        "        display: block;\n",
        "    }\n",
        "    \n",
        "    .warning{\n",
        "        color: rgb( 240, 20, 20 )\n",
        "        }\n",
        "</style>\n",
        "<script>\n",
        "    MathJax.Hub.Config({\n",
        "                        TeX: {\n",
        "                           extensions: [\"AMSmath.js\"]\n",
        "                           },\n",
        "                tex2jax: {\n",
        "                    inlineMath: [ ['$','$'], [\"\\\\(\",\"\\\\)\"] ],\n",
        "                    displayMath: [ ['$$','$$'], [\"\\\\[\",\"\\\\]\"] ]\n",
        "                },\n",
        "                displayAlign: 'center', // Change this to 'center' to center equations.\n",
        "                \"HTML-CSS\": {\n",
        "                    styles: {'.MathJax_Display': {\"margin\": 4}}\n",
        "                }\n",
        "        });\n",
        "</script>"
       ],
       "output_type": "pyout",
       "prompt_number": 1,
       "text": [
        "<IPython.core.display.HTML at 0x108b24990>"
       ]
      }
     ],
     "prompt_number": 1
    },
    {
     "cell_type": "code",
     "collapsed": false,
     "input": [],
     "language": "python",
     "metadata": {},
     "outputs": []
    }
   ],
   "metadata": {}
  }
 ]
}