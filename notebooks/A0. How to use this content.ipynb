{
 "metadata": {
  "name": "A0. How to use this content"
 },
 "nbformat": 3,
 "nbformat_minor": 0,
 "worksheets": [
  {
   "cells": [
    {
     "cell_type": "markdown",
     "metadata": {},
     "source": [
      "Before you begin\n",
      "================"
     ]
    },
    {
     "cell_type": "markdown",
     "metadata": {},
     "source": [
      "### About the content\n",
      "\n",
      "The content is written in IPython Notebook.  This is a technology that allows executable code to be run via a browser and the results piped back into the browser.  For this edition of the content we are using Python code.  With IPython Notebook the executable code could be R or even MATLAB.  \n",
      "\n",
      "* To execute the code in a particular cell, click on the cell and hit shift-enter.\n",
      "* Before you execute the code in an arbitrary cell it is good to run all the code once so that all imports and variables are initialised.\n",
      "* To execute all code in a notebook click Menu->Cell->RunAll.  You should do this at the start of reading each new notebook.\n",
      "* If you see a pink colored warning message, it can be ignored.  To get rid of it for aesthetic reasons, click on the cell above it and hit shift enter.  It should disappear.  \n",
      "* On the other hand if you get a full blown exception, it means something went wrong.  Typically it means you didn't run Menu->Cell->RunAll and something did not get initialised.  The error message itself should tell you more.\n",
      "\n",
      "* You will see code cells that say \"TRY THIS\" - do actually try what it's asking you to.  The notebook is meant to be interactive.\n",
      "* The content gets progressively more challenging and the intent is that a community support system will develop around the content.  In the meanwhile there's StackOverflow.\n",
      "\n",
      "* Make sure you have all the supporting images and datasets or you'll see lots of exceptions.\n",
      "* See installation instructions at http://opendst.com if you want to create your own installation.\n",
      "* If you're having problems that are hard to fix, a fresh installation, from instructions at opendst.com, is recommended.\n",
      "\n",
      "### About IPython Notebook\n",
      "\n",
      "* If you are new to IPython Notebook see http://ipython.org/notebook  \n",
      "* If you are new to Python see http://python.org\n",
      "\n"
     ]
    },
    {
     "cell_type": "code",
     "collapsed": false,
     "input": [],
     "language": "python",
     "metadata": {},
     "outputs": []
    }
   ],
   "metadata": {}
  }
 ]
}