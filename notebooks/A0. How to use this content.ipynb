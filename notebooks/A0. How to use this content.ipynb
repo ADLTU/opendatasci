{
 "metadata": {
  "name": "A0. How to use this content"
 },
 "nbformat": 3,
 "nbformat_minor": 0,
 "worksheets": [
  {
   "cells": [
    {
     "cell_type": "markdown",
     "metadata": {},
     "source": [
      "Before you begin\n",
      "================"
     ]
    },
    {
     "cell_type": "markdown",
     "metadata": {},
     "source": [
      "### About the content\n",
      "\n",
      "The content for OpenDST beta is written in IPython Notebook.  This is a technology that allows executable code to be run via a browser with the results visible right in the browser.  For this edition of the content we are using Python code for executable content.  With IPython Notebook the executable code could be R or even MATLAB.  \n",
      "\n",
      "\n",
      "### IPython Notebook and Python\n",
      "\n",
      "* If you are new to IPython Notebook see http://ipython.org/notebook  \n",
      "* If you are new to Python see http://python.org\n",
      "* If you are new to NumPy/SciPy/matplotlib/pandas see http://www.scipy.org/\n",
      "\n",
      "#### Important\n",
      "\n",
      "Please note this very important point before continuing.\n",
      "When you execute code somewhere in the middle of a notebook, the code fragment may be dependent on imports, intermediate results in local variables and other such initializations in preceding cells.  So it is better to execute code cells sequentially, starting at the top when new to IPython Notebook., to avoid being confused by such extraneous errors.  \n",
      "\n",
      "Even so if you want to dive in and not have to execute each preceding code cell then you'll need to execute the menu item 'Cell->Run All'.  This executes each code cell for you sequentially once, so from that point on all dependencies on prior code cells are satisfied.\n",
      "While the code is running you'll see a flashing message towards the top right corner of the notebook, in the grey menubar, which says 'Kernel Busy'.\n",
      "This means the code is being executed once through sequentially.  Expand the browser to full screen to make sure you can see the message.  When the message goes away and stays that way for 10 seconds or so, the execution is complete.  You may now dive right in.  \n",
      "\n",
      "If, during 'run all' you see a pink colored warning message, it can be ignored - it appears to be a Python or IPython issue that does not affect our content.  To get rid of it for aesthetic reasons, click on the cell above it and hit shift-enter.  It should disappear.  Basically, executing the code that generated the message a second time makes the message disappear.\n",
      "\n",
      "#### Actually executing code and suchlike\n",
      "\n",
      "* To execute the code in a particular cell, click on the cell and hit shift-enter.\n",
      "* Before you execute the code in an arbitrary cell it is good to run all the code once so that all imports and variables are initialised.\n",
      "* To execute all code in a notebook click Menu->Cell->RunAll.  You should do this at the start of reading each new notebook.\n",
      "* If you see a pink colored warning message, it can be ignored.  To get rid of it for aesthetic reasons, click on the cell above it and hit shift enter.  It should disappear.  \n",
      "* On the other hand if you get a full blown exception, it means something went wrong.  Typically it means you didn't run Menu->Cell->RunAll and something did not get initialised.  The error message itself should tell you more.\n",
      "\n",
      "* You will see code cells that say \"TRY THIS\" - do actually try what it's asking you to.  The notebook is meant to be interactive.\n",
      "* The content gets progressively more challenging and the intent is that a community support system will develop around the content.  In the meanwhile there's StackOverflow.\n",
      "\n",
      "* Make sure you have all the supporting images and datasets or you'll see lots of exceptions.\n",
      "* See installation instructions at http://opendst.com if you want to create your own installation.\n",
      "* If you're having problems that are hard to fix, a fresh installation, from instructions at opendst.com, is recommended.\n",
      "\n",
      "\n"
     ]
    },
    {
     "cell_type": "code",
     "collapsed": false,
     "input": [],
     "language": "python",
     "metadata": {},
     "outputs": []
    }
   ],
   "metadata": {}
  }
 ]
}