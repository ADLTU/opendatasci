{
 "metadata": {
  "name": "B2. Logistic Regression - Data Exploration"
 },
 "nbformat": 3,
 "nbformat_minor": 0,
 "worksheets": [
  {
   "cells": [
    {
     "cell_type": "markdown",
     "metadata": {},
     "source": [
      "### This is a placeholder. \n",
      "The data set used is the same as in Linear Regression where the data exploration was done in depth.  \n",
      "Should we use a different data set in future this is where the exploration will go."
     ]
    }
   ],
   "metadata": {}
  }
 ]
}